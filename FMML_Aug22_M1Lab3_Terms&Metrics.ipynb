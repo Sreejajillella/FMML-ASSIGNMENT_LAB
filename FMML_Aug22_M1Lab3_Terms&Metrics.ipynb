{
  "nbformat": 4,
  "nbformat_minor": 0,
  "metadata": {
    "colab": {
      "provenance": [],
      "include_colab_link": true
    },
    "kernelspec": {
      "name": "python3",
      "display_name": "Python 3"
    },
    "language_info": {
      "name": "python"
    }
  },
  "cells": [
    {
      "cell_type": "markdown",
      "metadata": {
        "id": "view-in-github",
        "colab_type": "text"
      },
      "source": [
        "<a href=\"https://colab.research.google.com/github/Sreejajillella/FMML-ASSIGNMENT_LAB/blob/main/FMML_Aug22_M1Lab3_Terms%26Metrics.ipynb\" target=\"_parent\"><img src=\"https://colab.research.google.com/assets/colab-badge.svg\" alt=\"Open In Colab\"/></a>"
      ]
    },
    {
      "cell_type": "markdown",
      "metadata": {
        "id": "3Eu9VZbF01eq"
      },
      "source": [
        "# Machine learning terms and metrics\n",
        "\n",
        "FMML Module 1, Lab 3<br>\n",
        "Module Coordinator: Amit Pandey amit.pandey@research.iiit.ac.in <br>\n",
        "<br>\n",
        "\n",
        " In this lab, we will show a part of the ML pipeline by extracting features, training and testing. We will also explore how data augmentation affects accuracy."
      ]
    },
    {
      "cell_type": "code",
      "metadata": {
        "id": "8qBvyEem0vLi"
      },
      "source": [
        "import matplotlib.pyplot as plt\n",
        "import numpy as np\n",
        "from sklearn import datasets\n",
        "# set randomseed\n",
        "rng = np.random.default_rng(seed=42)"
      ],
      "execution_count": 1,
      "outputs": []
    },
    {
      "cell_type": "markdown",
      "metadata": {
        "id": "u3t59g5s1HfC"
      },
      "source": [
        "In this lab, we will use the California Housing dataset. There are 20640 samples, each with 8 attributes like income of the block, age of the houses per district etc. The task is to predict the cost of the houses per district. \n",
        "\n",
        "Let us download and examine the dataset. "
      ]
    },
    {
      "cell_type": "code",
      "metadata": {
        "id": "8LpqjN991GGJ",
        "colab": {
          "base_uri": "https://localhost:8080/"
        },
        "outputId": "8ff49a26-a93d-4892-a6a6-93dd651793e8"
      },
      "source": [
        " dataset =  datasets.fetch_california_housing()\n",
        " # print(dataset.DESCR)  # uncomment this if you want to know more about this dataset\n",
        " # print(dataset.keys())  # if you want to know what else is there in this dataset\n",
        " dataset.target = dataset.target.astype(np.int) # so that we can classify\n",
        " print(dataset.data.shape)\n",
        " print(dataset.target.shape)"
      ],
      "execution_count": 2,
      "outputs": [
        {
          "output_type": "stream",
          "name": "stdout",
          "text": [
            "(20640, 8)\n",
            "(20640,)\n"
          ]
        },
        {
          "output_type": "stream",
          "name": "stderr",
          "text": [
            "<ipython-input-2-60ae2e9a125e>:4: DeprecationWarning: `np.int` is a deprecated alias for the builtin `int`. To silence this warning, use `int` by itself. Doing this will not modify any behavior and is safe. When replacing `np.int`, you may wish to use e.g. `np.int64` or `np.int32` to specify the precision. If you wish to review your current use, check the release note link for additional information.\n",
            "Deprecated in NumPy 1.20; for more details and guidance: https://numpy.org/devdocs/release/1.20.0-notes.html#deprecations\n",
            "  dataset.target = dataset.target.astype(np.int) # so that we can classify\n"
          ]
        }
      ]
    },
    {
      "cell_type": "markdown",
      "metadata": {
        "id": "iNx4174W5xRg"
      },
      "source": [
        "Here is a function for calculating the 1-nearest neighbours"
      ]
    },
    {
      "cell_type": "code",
      "source": [
        "type(dataset), dataset.DESCR"
      ],
      "metadata": {
        "colab": {
          "base_uri": "https://localhost:8080/"
        },
        "id": "ut5lj4HsaTfp",
        "outputId": "52d5a5af-757f-4ddf-9235-9e5d49ec1a52"
      },
      "execution_count": 3,
      "outputs": [
        {
          "output_type": "execute_result",
          "data": {
            "text/plain": [
              "(sklearn.utils.Bunch,\n",
              " '.. _california_housing_dataset:\\n\\nCalifornia Housing dataset\\n--------------------------\\n\\n**Data Set Characteristics:**\\n\\n    :Number of Instances: 20640\\n\\n    :Number of Attributes: 8 numeric, predictive attributes and the target\\n\\n    :Attribute Information:\\n        - MedInc        median income in block group\\n        - HouseAge      median house age in block group\\n        - AveRooms      average number of rooms per household\\n        - AveBedrms     average number of bedrooms per household\\n        - Population    block group population\\n        - AveOccup      average number of household members\\n        - Latitude      block group latitude\\n        - Longitude     block group longitude\\n\\n    :Missing Attribute Values: None\\n\\nThis dataset was obtained from the StatLib repository.\\nhttps://www.dcc.fc.up.pt/~ltorgo/Regression/cal_housing.html\\n\\nThe target variable is the median house value for California districts,\\nexpressed in hundreds of thousands of dollars ($100,000).\\n\\nThis dataset was derived from the 1990 U.S. census, using one row per census\\nblock group. A block group is the smallest geographical unit for which the U.S.\\nCensus Bureau publishes sample data (a block group typically has a population\\nof 600 to 3,000 people).\\n\\nAn household is a group of people residing within a home. Since the average\\nnumber of rooms and bedrooms in this dataset are provided per household, these\\ncolumns may take surpinsingly large values for block groups with few households\\nand many empty houses, such as vacation resorts.\\n\\nIt can be downloaded/loaded using the\\n:func:`sklearn.datasets.fetch_california_housing` function.\\n\\n.. topic:: References\\n\\n    - Pace, R. Kelley and Ronald Barry, Sparse Spatial Autoregressions,\\n      Statistics and Probability Letters, 33 (1997) 291-297\\n')"
            ]
          },
          "metadata": {},
          "execution_count": 3
        }
      ]
    },
    {
      "cell_type": "code",
      "metadata": {
        "id": "07zpydQj1hIQ",
        "colab": {
          "base_uri": "https://localhost:8080/"
        },
        "outputId": "6765edc9-b6cc-488d-a7d3-318627e42645"
      },
      "source": [
        "def NN1(traindata, trainlabel, query):\n",
        "  diff  = traindata - query  # find the difference between features. Numpy automatically takes care of the size here \n",
        "  sq = diff*diff # square the differences\n",
        "  dist = sq.sum(1) # add up the squares\n",
        "  label = trainlabel[np.argmin(dist)] # our predicted label is the label of the training data which has the least distance from the query\n",
        "  return label\n",
        "\n",
        "def NN(traindata, trainlabel, testdata):\n",
        "  # we will run nearest neighbour for each sample in the test data \n",
        "  # and collect the predicted classes in an array using list comprehension\n",
        "  predlabel = np.array([NN1(traindata, trainlabel, i) for i in testdata])\n",
        "  return predlabel\n",
        "\n",
        "\n",
        "\n",
        "5,5\n",
        "6,6\n",
        "8,9\n",
        "\n",
        "\n",
        "0,0"
      ],
      "execution_count": 4,
      "outputs": [
        {
          "output_type": "execute_result",
          "data": {
            "text/plain": [
              "(0, 0)"
            ]
          },
          "metadata": {},
          "execution_count": 4
        }
      ]
    },
    {
      "cell_type": "markdown",
      "metadata": {
        "id": "03JktkfIGaje"
      },
      "source": [
        "We will also define a 'random classifier', which randomly allots labels to each sample"
      ]
    },
    {
      "cell_type": "code",
      "metadata": {
        "id": "fogWAtjyGhAH"
      },
      "source": [
        "def RandomClassifier(traindata, trainlabel, testdata):\n",
        "  # in reality, we don't need these arguments\n",
        "\n",
        "  classes = np.unique(trainlabel)\n",
        "  rints = rng.integers(low=0, high=len(classes), size=len(testdata))\n",
        "  predlabel = classes[rints]\n",
        "  return predlabel"
      ],
      "execution_count": 5,
      "outputs": []
    },
    {
      "cell_type": "markdown",
      "metadata": {
        "id": "1Hjf1KHs7fU5"
      },
      "source": [
        "Let us define a metric 'Accuracy' to see how good our learning algorithm is. Accuracy is the ratio of the number of correctly classified samples to the total number of samples. The higher the accuracy, the better the algorithm. "
      ]
    },
    {
      "cell_type": "code",
      "metadata": {
        "id": "ouuCqWU07bz-"
      },
      "source": [
        "def Accuracy(gtlabel, predlabel):\n",
        "  assert len(gtlabel)==len(predlabel), \"Length of the groundtruth labels and predicted labels should be the same\"\n",
        "  correct = (gtlabel==predlabel).sum() # count the number of times the groundtruth label is equal to the predicted label.\n",
        "  return correct/len(gtlabel)"
      ],
      "execution_count": 6,
      "outputs": []
    },
    {
      "cell_type": "markdown",
      "metadata": {
        "id": "4vJFwBFa9Klw"
      },
      "source": [
        "Let us make a function to split the dataset with the desired probability."
      ]
    },
    {
      "cell_type": "code",
      "metadata": {
        "id": "Ko0VzpSM2Tdi"
      },
      "source": [
        "def split(data, label, percent):\n",
        "  # generate a random number for each sample\n",
        "  rnd = rng.random(len(label))\n",
        "  split1 = rnd<percent\n",
        "  split2 = rnd>=percent\n",
        "  split1data = data[split1,:]\n",
        "  split1label = label[split1]\n",
        "  split2data = data[split2,:]\n",
        "  split2label = label[split2]\n",
        "  return split1data, split1label, split2data, split2label"
      ],
      "execution_count": 7,
      "outputs": []
    },
    {
      "cell_type": "markdown",
      "metadata": {
        "id": "AcK3LEAJ_LGC"
      },
      "source": [
        "We will reserve 20% of our dataset as the test set. We will not change this portion throughout our experiments"
      ]
    },
    {
      "cell_type": "code",
      "metadata": {
        "id": "bBZkHBLJ1iU-",
        "colab": {
          "base_uri": "https://localhost:8080/"
        },
        "outputId": "d8d0ed61-6064-4f34-dff5-1b34c454527f"
      },
      "source": [
        "testdata, testlabel, alltraindata, alltrainlabel = split(dataset.data, dataset.target, 20/100)\n",
        "print('Number of test samples = ', len(testlabel))\n",
        "print('Number of other samples = ', len(alltrainlabel))\n",
        "print('Percent of test data = ', len(testlabel)*100/len(dataset.target),'%')"
      ],
      "execution_count": 8,
      "outputs": [
        {
          "output_type": "stream",
          "name": "stdout",
          "text": [
            "Number of test samples =  4144\n",
            "Number of other samples =  16496\n",
            "Percent of test data =  20.07751937984496 %\n"
          ]
        }
      ]
    },
    {
      "cell_type": "markdown",
      "metadata": {
        "id": "a6Ss0Z6IAGNV"
      },
      "source": [
        "## Experiments with splits\n",
        "\n",
        "Let us reserve some of our train data as a validation set"
      ]
    },
    {
      "cell_type": "code",
      "metadata": {
        "id": "WFew2iry_7W7"
      },
      "source": [
        "traindata, trainlabel, valdata, vallabel = split(alltraindata, alltrainlabel, 75/100)"
      ],
      "execution_count": 9,
      "outputs": []
    },
    {
      "cell_type": "markdown",
      "metadata": {
        "id": "60hiu4clFN1i"
      },
      "source": [
        "What is the accuracy of our classifiers on the train dataset?"
      ]
    },
    {
      "cell_type": "code",
      "metadata": {
        "id": "DBlZDTHUFTZx",
        "colab": {
          "base_uri": "https://localhost:8080/"
        },
        "outputId": "8dc0b41b-302c-4238-d1ce-ebf788821782"
      },
      "source": [
        "trainpred = NN(traindata, trainlabel, traindata)\n",
        "trainAccuracy = Accuracy(trainlabel, trainpred)\n",
        "print(\"Train accuracy using nearest neighbour is \", trainAccuracy)\n",
        "\n",
        "trainpred = RandomClassifier(traindata, trainlabel, traindata)\n",
        "trainAccuracy = Accuracy(trainlabel, trainpred)\n",
        "print(\"Train accuracy using random classifier is \", trainAccuracy)"
      ],
      "execution_count": 10,
      "outputs": [
        {
          "output_type": "stream",
          "name": "stdout",
          "text": [
            "Train accuracy using nearest neighbour is  1.0\n",
            "Train accuracy using random classifier is  0.164375808538163\n"
          ]
        }
      ]
    },
    {
      "cell_type": "code",
      "source": [
        "5,5 - A\n",
        "6,6 -B\n",
        "7,7 -C\n",
        "\n",
        "\n",
        "\n",
        "8,8 - A | C\n",
        "0,0 -B | A   - 0\n",
        "\n",
        "\n",
        "10,10     -A\n",
        "15,15     -C"
      ],
      "metadata": {
        "id": "jnMblJyaXKZZ",
        "colab": {
          "base_uri": "https://localhost:8080/",
          "height": 235
        },
        "outputId": "d6b0f9fd-894c-4453-9bb3-699b297f0896"
      },
      "execution_count": 12,
      "outputs": [
        {
          "output_type": "error",
          "ename": "NameError",
          "evalue": "ignored",
          "traceback": [
            "\u001b[0;31m---------------------------------------------------------------------------\u001b[0m",
            "\u001b[0;31mNameError\u001b[0m                                 Traceback (most recent call last)",
            "\u001b[0;32m<ipython-input-12-8f853d8ba166>\u001b[0m in \u001b[0;36m<module>\u001b[0;34m\u001b[0m\n\u001b[0;32m----> 1\u001b[0;31m \u001b[0;36m5\u001b[0m\u001b[0;34m,\u001b[0m\u001b[0;36m5\u001b[0m \u001b[0;34m-\u001b[0m \u001b[0mA\u001b[0m\u001b[0;34m\u001b[0m\u001b[0;34m\u001b[0m\u001b[0m\n\u001b[0m\u001b[1;32m      2\u001b[0m \u001b[0;36m6\u001b[0m\u001b[0;34m,\u001b[0m\u001b[0;36m6\u001b[0m \u001b[0;34m-\u001b[0m\u001b[0mB\u001b[0m\u001b[0;34m\u001b[0m\u001b[0;34m\u001b[0m\u001b[0m\n\u001b[1;32m      3\u001b[0m \u001b[0;36m7\u001b[0m\u001b[0;34m,\u001b[0m\u001b[0;36m7\u001b[0m \u001b[0;34m-\u001b[0m\u001b[0mC\u001b[0m\u001b[0;34m\u001b[0m\u001b[0;34m\u001b[0m\u001b[0m\n\u001b[1;32m      4\u001b[0m \u001b[0;34m\u001b[0m\u001b[0m\n\u001b[1;32m      5\u001b[0m \u001b[0;34m\u001b[0m\u001b[0m\n",
            "\u001b[0;31mNameError\u001b[0m: name 'A' is not defined"
          ]
        }
      ]
    },
    {
      "cell_type": "markdown",
      "source": [
        "## Interesting: See how train accuracy of nearest neighbour is 1 i.e. 100%. Ponder and Explain."
      ],
      "metadata": {
        "id": "tW_I-YuhbQqA"
      }
    },
    {
      "cell_type": "markdown",
      "metadata": {
        "id": "7h08-9gJDtSy"
      },
      "source": [
        "For nearest neighbour, the train accuracy is always 1. The accuracy of the random classifier is close to 1/(number of classes) which is 0.1666 in our case.\n",
        "\n",
        "Let us predict the labels for our validation set and get the accuracy"
      ]
    },
    {
      "cell_type": "code",
      "metadata": {
        "id": "4h7bXoW_2H3v",
        "colab": {
          "base_uri": "https://localhost:8080/"
        },
        "outputId": "bcd9e2a4-41e7-4313-e5f7-86b14fccd8cf"
      },
      "source": [
        "valpred = NN(traindata, trainlabel, valdata)\n",
        "valAccuracy = Accuracy(vallabel, valpred)\n",
        "print(\"Validation accuracy using nearest neighbour is \", valAccuracy)\n",
        "\n",
        "valpred = RandomClassifier(traindata, trainlabel, valdata)\n",
        "valAccuracy = Accuracy(vallabel, valpred)\n",
        "print(\"Validation accuracy using random classifier is \", valAccuracy)"
      ],
      "execution_count": 13,
      "outputs": [
        {
          "output_type": "stream",
          "name": "stdout",
          "text": [
            "Validation accuracy using nearest neighbour is  0.34108527131782945\n",
            "Validation accuracy using random classifier is  0.1688468992248062\n"
          ]
        }
      ]
    },
    {
      "cell_type": "markdown",
      "metadata": {
        "id": "py9bLguFEjfg"
      },
      "source": [
        "Validation accuracy of nearest neighbour is considerably less than its train accuracy while the validation accuracy of random classifier is the same. However, the validation accuracy of nearest neighbour is twice that of the random classifier. \n",
        "\n",
        "Now let us try another random split and check the validation accuracy"
      ]
    },
    {
      "cell_type": "code",
      "metadata": {
        "id": "ujm3cyYzEntE",
        "colab": {
          "base_uri": "https://localhost:8080/"
        },
        "outputId": "08c5fc66-c782-4c9d-b32b-1bdcffd555bd"
      },
      "source": [
        "traindata, trainlabel, valdata, vallabel = split(alltraindata, alltrainlabel, 75/100)\n",
        "valpred = NN(traindata, trainlabel, valdata)\n",
        "valAccuracy = Accuracy(vallabel, valpred)\n",
        "print(\"Validation accuracy of nearest neighbour is \", valAccuracy)"
      ],
      "execution_count": 14,
      "outputs": [
        {
          "output_type": "stream",
          "name": "stdout",
          "text": [
            "Validation accuracy of nearest neighbour is  0.34048257372654156\n"
          ]
        }
      ]
    },
    {
      "cell_type": "markdown",
      "metadata": {
        "id": "oSOx7U83EKie"
      },
      "source": [
        "You can run the above cell multiple times to try with different random splits. \n",
        "We notice that the accuracy is different for each run, but close together. \n",
        "\n",
        "Now let us compare it with the accuracy we get on the test dataset. "
      ]
    },
    {
      "cell_type": "code",
      "metadata": {
        "id": "PNEZ5ToYBEDW",
        "colab": {
          "base_uri": "https://localhost:8080/"
        },
        "outputId": "a2e831e2-7a50-4cba-ceb7-059185f7aca2"
      },
      "source": [
        "testpred = NN(alltraindata, alltrainlabel, testdata)\n",
        "testAccuracy = Accuracy(testlabel, testpred)\n",
        "print('Test accuracy is ', testAccuracy)"
      ],
      "execution_count": 15,
      "outputs": [
        {
          "output_type": "stream",
          "name": "stdout",
          "text": [
            "Test accuracy is  0.34917953667953666\n"
          ]
        }
      ]
    },
    {
      "cell_type": "markdown",
      "metadata": {
        "id": "w3dGD531K3gH"
      },
      "source": [
        "### Try it out for yourself and answer:\n",
        "1. How is the accuracy of the validation set affected if we increase the percentage of validation set? What happens when we reduce it?\n",
        "2. How does the size of the train and validation set affect how well we can predict the accuracy on the test set using the validation set?\n",
        "3. What do you think is a good percentage to reserve for the validation set so that thest two factors are balanced? \n",
        "\n",
        "Answer for both nearest neighbour and random classifier. You can note down the values for your experiments and plot a graph using  <a href=https://matplotlib.org/stable/gallery/lines_bars_and_markers/step_demo.html#sphx-glr-gallery-lines-bars-and-markers-step-demo-py>plt.plot<href>. Check also for extreme values for splits, like 99.9% or 0.1%"
      ]
    },
    {
      "cell_type": "markdown",
      "metadata": {
        "id": "PnYvkAZLQY7h"
      },
      "source": [
        "## Multiple Splits\n",
        "\n",
        "One way to get more accurate estimates for the test accuracy is by using <b>crossvalidation</b>. Here, we will try a simple version, where we do multiple train/val splits and take the average of validation accuracies as the test accuracy estimation. Here is a function for doing this. Note that this function will take a long time to execute. "
      ]
    },
    {
      "cell_type": "code",
      "source": [
        "100 --- 80 --- 75|5.   12345, 1234|5. 2345|1, 1345|2"
      ],
      "metadata": {
        "id": "k-HGXSovYQ1v",
        "colab": {
          "base_uri": "https://localhost:8080/",
          "height": 130
        },
        "outputId": "e41f6999-555d-4f0d-d985-4a854a46140c"
      },
      "execution_count": 17,
      "outputs": [
        {
          "output_type": "error",
          "ename": "SyntaxError",
          "evalue": "ignored",
          "traceback": [
            "\u001b[0;36m  File \u001b[0;32m\"<ipython-input-17-4c5e91ab20ef>\"\u001b[0;36m, line \u001b[0;32m1\u001b[0m\n\u001b[0;31m    100 --- 80 --- 75|5.   12345, 1234|5. 2345|1, 1345|2\u001b[0m\n\u001b[0m                           ^\u001b[0m\n\u001b[0;31mSyntaxError\u001b[0m\u001b[0;31m:\u001b[0m invalid syntax\n"
          ]
        }
      ]
    },
    {
      "cell_type": "code",
      "metadata": {
        "id": "E4nGCUQXBTzo"
      },
      "source": [
        "# you can use this function for random classifier also\n",
        "def AverageAccuracy(alldata, alllabel, splitpercent, iterations, classifier=NN):\n",
        "  accuracy = 0\n",
        "  for ii in range(iterations):\n",
        "    traindata, trainlabel, valdata, vallabel = split(alldata, alllabel, splitpercent)\n",
        "    valpred = classifier(traindata, trainlabel, valdata)\n",
        "    accuracy += Accuracy(vallabel, valpred)\n",
        "  return accuracy/iterations # average of all accuracies"
      ],
      "execution_count": 19,
      "outputs": []
    },
    {
      "cell_type": "code",
      "metadata": {
        "id": "H3qtNar7Bbik",
        "colab": {
          "base_uri": "https://localhost:8080/"
        },
        "outputId": "7af179e8-a0b4-473f-c32e-a149323a1159"
      },
      "source": [
        "print('Average validation accuracy is ', AverageAccuracy(alltraindata, alltrainlabel, 75/100, 10, classifier=NN))\n",
        "testpred = NN(alltraindata, alltrainlabel, testdata)\n",
        "print('test accuracy is ',Accuracy(testlabel, testpred) )"
      ],
      "execution_count": 20,
      "outputs": [
        {
          "output_type": "stream",
          "name": "stdout",
          "text": [
            "Average validation accuracy is  0.33584635395170215\n",
            "test accuracy is  0.34917953667953666\n"
          ]
        }
      ]
    },
    {
      "cell_type": "markdown",
      "metadata": {
        "id": "33GIn4x5VH-d"
      },
      "source": [
        "This is a very simple way of doing cross-validation. There are many well-known algorithms for cross-validation, like k-fold cross-validation, leave-one-out etc. This will be covered in detail in a later module. For more information about cross-validation, check <a href=https://en.wikipedia.org/wiki/Cross-validation_(statistics)>Cross-validatioin (Wikipedia)</a>\n",
        "\n",
        "### Questions\n",
        "1. Does averaging the validation accuracy across multiple splits give more consistent results?\n",
        "2. Does it give more accurate estimate of test accuracy?\n",
        "3. What is the effect of the number of iterations on the estimate? Do we get a better estimate with higher iterations?\n",
        "4. Consider the results you got for the previous questions. Can we deal with a very small train dataset or validation dataset by increasing the iterations?\n"
      ]
    },
    {
      "cell_type": "markdown",
      "source": [
        "Now let us see how augmentation affects accuracy. We will pick components from what we studied in the last module\n",
        "we will experiment with MNIST dataset"
      ],
      "metadata": {
        "id": "w2dhnjcHy2Th"
      }
    },
    {
      "cell_type": "markdown",
      "source": [
        "## Now let us see how augmentation affects accuracy. We will pick components from what we studied in the last module"
      ],
      "metadata": {
        "id": "UUft9G1acwlB"
      }
    },
    {
      "cell_type": "markdown",
      "source": [
        "we will experiment with MNIST dataset\n"
      ],
      "metadata": {
        "id": "XtU3AfVDkkYM"
      }
    },
    {
      "cell_type": "code",
      "source": [
        "import numpy as np\n",
        "import matplotlib.pyplot as plt\n",
        "from keras.datasets import mnist\n",
        "# set randomseed\n",
        "rng = np.random.default_rng(seed=42)\n",
        "from sklearn.utils.extmath import cartesian\n",
        "from skimage.transform import rotate, AffineTransform, warp\n",
        "import math\n",
        "\n",
        "#loading the dataset\n",
        "(train_X, train_y), (test_X, test_y) = mnist.load_data()\n",
        "\n",
        "print(train_X[0].shape,train_y[0])\n",
        "\n"
      ],
      "metadata": {
        "colab": {
          "base_uri": "https://localhost:8080/"
        },
        "id": "47HIwFsMkebm",
        "outputId": "67c38609-f020-41d6-a3f6-28813f3065b9"
      },
      "execution_count": 21,
      "outputs": [
        {
          "output_type": "stream",
          "name": "stdout",
          "text": [
            "Downloading data from https://storage.googleapis.com/tensorflow/tf-keras-datasets/mnist.npz\n",
            "11490434/11490434 [==============================] - 0s 0us/step\n",
            "(28, 28) 5\n"
          ]
        }
      ]
    },
    {
      "cell_type": "code",
      "source": [
        "train_X = train_X/255\n",
        "test_X = test_X/255\n",
        "\n",
        "#train_X[0].shape, train_X[0]"
      ],
      "metadata": {
        "id": "WW6ZGBcTkyXB"
      },
      "execution_count": 22,
      "outputs": []
    },
    {
      "cell_type": "code",
      "source": [
        "train_X = train_X[::1200,:,:].copy() # subsample. Otherwise it will take too long!\n",
        "train_y = train_y[::1200].copy() # do the same to the labels"
      ],
      "metadata": {
        "id": "64ATS9mtk_mA"
      },
      "execution_count": 23,
      "outputs": []
    },
    {
      "cell_type": "code",
      "metadata": {
        "id": "1WileBUqC404"
      },
      "source": [
        "## Augmentation functions:\n",
        "\n",
        "\n",
        "\n",
        "def augRotate(sample, angleconstraint):\n",
        "  if angleconstraint==0:\n",
        "    return sample\n",
        "\n",
        "  print(\"shape of sample before is:\", sample.shape)\n",
        "  print(\"len(sample.shape)\", len(sample.shape))\n",
        "  if len(sample.shape)==2:\n",
        "    sample = np.expand_dims(sample, 0)  # make sure the sample is 3 dimensional\n",
        "    print(\"shape of sample is:\", sample.shape)\n",
        "  angle = rng.random(len(sample)) # generate random numbers for angles\n",
        "  print(\"angle is:\", angle)\n",
        "  angle = (angle-0.5)*angleconstraint # make the random angle constrained\n",
        "  print(\"angle with constraint is:\", angle)\n",
        "  nsample = sample.copy() # preallocate the augmented array to make it faster\n",
        "  for ii in range(len(sample)):\n",
        "    nsample[ii] = rotate(sample[ii], angle[ii])\n",
        "  return np.squeeze(nsample) # take care if the input had only one sample.\n",
        "\n",
        "\n",
        "def NN1(traindata, trainlabel, query):\n",
        "  diff  = traindata - query  # find the difference between features. Numpy automatically takes care of the size here \n",
        "  sq = diff*diff # square the differences\n",
        "  dist = sq.sum(1) # add up the squares\n",
        "  label = trainlabel[np.argmin(dist)] # our predicted label is the label of the training data which has the least distance from the query\n",
        "  return label\n",
        "\n",
        "def NN(traindata, trainlabel, testdata):\n",
        "  # we will run nearest neighbour for each sample in the test data \n",
        "  # and collect the predicted classes in an array using list comprehension\n",
        "  traindata = traindata.reshape(-1, 28*28)\n",
        "  testdata = testdata.reshape(-1,28*28)\n",
        "  predlabel = np.array([NN1(traindata, trainlabel, i) for i in testdata])\n",
        "  return predlabel\n",
        "\n",
        "def Accuracy(gtlabel, predlabel):\n",
        "  assert len(gtlabel)==len(predlabel), \"Length of the groundtruth labels and predicted labels should be the same\"\n",
        "  correct = (gtlabel==predlabel).sum() # count the number of times the groundtruth label is equal to the predicted label.\n",
        "  return correct/len(gtlabel)"
      ],
      "execution_count": 24,
      "outputs": []
    },
    {
      "cell_type": "code",
      "source": [
        "def shear(sample, amount):\n",
        "  tform = AffineTransform(shear = amount) # create the shear transform\n",
        "  img = warp(sample, tform) # apply the shear\n",
        "  # this makes the digit off-center. Since all the images in the test set are centralized, we will do the same here\n",
        "  col = img.sum(0).nonzero()[0]\n",
        "  row = img.sum(1).nonzero()[0]\n",
        "  if len(col)>0 and len(row)>0:\n",
        "    xshift = int(sample.shape[0]/2 - (row[0]+row[-1])/2)\n",
        "    yshift = int(sample.shape[1]/2 - (col[0]+col[-1])/2)\n",
        "    img = np.roll(img, (xshift, yshift),(0,1))\n",
        "  return img\n",
        "\n",
        "def augShear(sample, shearconstraint):\n",
        "  if shearconstraint==0:\n",
        "    return sample\n",
        "  if len(sample.shape)==2:\n",
        "    sample = np.expand_dims(sample, 0)  # make sure the sample is 3 dimensional\n",
        "  amt = rng.random(len(sample)) # generate random numbers for shear\n",
        "  amt = (amt-0.5)*shearconstraint # make the random shear constrained\n",
        "  nsample = sample.copy() # preallocate the augmented array to make it faster\n",
        "  for ii in range(len(sample)):\n",
        "    nsample[ii] = shear(sample[ii], amt[ii])\n",
        "  return np.squeeze(nsample) # take care if the input had only one sample.\n",
        "\n",
        "\n"
      ],
      "metadata": {
        "id": "BIsZ_Q5LqWEs"
      },
      "execution_count": 25,
      "outputs": []
    },
    {
      "cell_type": "markdown",
      "source": [
        "In this lab, we will use the image pixels themselves as features, instead of extracting features. Each image has 28*28 pixels, so we will flatten them to 784 pixels to use as features. Note that this is very compute intensive and will take a long time.\n",
        "\n",
        "Let us check the baseline accuracy on the test set without any augmentations. We hope that adding augmentations will help us to get better results."
      ],
      "metadata": {
        "id": "vAFpOzQFj-2r"
      }
    },
    {
      "cell_type": "code",
      "source": [
        "testpred = NN(train_X, train_y, test_X)\n",
        "print('Baseline accuracy without augmentation is ', Accuracy(test_y, testpred))"
      ],
      "metadata": {
        "colab": {
          "base_uri": "https://localhost:8080/"
        },
        "id": "dPNdNyFVj4pX",
        "outputId": "58efbf5a-6e64-440b-b1ad-323be60ea5df"
      },
      "execution_count": 26,
      "outputs": [
        {
          "output_type": "stream",
          "name": "stdout",
          "text": [
            "Baseline accuracy without augmentation is  0.6472\n"
          ]
        }
      ]
    },
    {
      "cell_type": "markdown",
      "source": [
        "Let us try to improve this accuracy using augmentations. When we create augmentations, we have to make sure that the changes reflect what will naturally occur in the dataset. For example, we should not add colour to our samples as an augmentation because they do not naturally occur. We should not also flip the images in MNIST, because flipped images have different meanings for digits."
      ],
      "metadata": {
        "id": "MckdgpPflSYh"
      }
    },
    {
      "cell_type": "markdown",
      "source": [
        "Let us augment the whole dataset and see if this improves the test accuracy"
      ],
      "metadata": {
        "id": "7aWfHHggmqu7"
      }
    },
    {
      "cell_type": "code",
      "source": [
        "# hyperparameters\n",
        "angleconstraint = 60\n",
        "naugmentations = 5\n",
        "\n",
        "# augment\n",
        "augdata = train_X # we include the original images also in the augmented dataset\n",
        "auglabel = train_y\n",
        "for ii in range(naugmentations):\n",
        "  augdata = np.concatenate((augdata, augRotate(train_X, angleconstraint))) # concatenate the augmented data to the set\n",
        "  auglabel = np.concatenate((auglabel, train_y))  # the labels don't change when we augment\n",
        "\n",
        "# check the test accuracy\n",
        "testpred = NN(augdata, auglabel, test_X)\n",
        "print('Accuracy after rotation augmentation is ', Accuracy(test_y, testpred))"
      ],
      "metadata": {
        "colab": {
          "base_uri": "https://localhost:8080/"
        },
        "id": "Kdn0TZ_tlMg3",
        "outputId": "80410bd4-2a6e-4991-fd29-5b0ce9692d6a"
      },
      "execution_count": 27,
      "outputs": [
        {
          "output_type": "stream",
          "name": "stdout",
          "text": [
            "shape of sample before is: (50, 28, 28)\n",
            "len(sample.shape) 3\n",
            "angle is: [0.77395605 0.43887844 0.85859792 0.69736803 0.09417735 0.97562235\n",
            " 0.7611397  0.78606431 0.12811363 0.45038594 0.37079802 0.92676499\n",
            " 0.64386512 0.82276161 0.4434142  0.22723872 0.55458479 0.06381726\n",
            " 0.82763117 0.6316644  0.75808774 0.35452597 0.97069802 0.89312112\n",
            " 0.7783835  0.19463871 0.466721   0.04380377 0.15428949 0.68304895\n",
            " 0.74476216 0.96750973 0.32582536 0.37045971 0.46955581 0.18947136\n",
            " 0.12992151 0.47570493 0.22690935 0.66981399 0.43715192 0.8326782\n",
            " 0.7002651  0.31236664 0.8322598  0.80476436 0.38747838 0.2883281\n",
            " 0.6824955  0.13975248]\n",
            "angle with constraint is: [ 16.43736291  -3.66729361  21.51587519  11.84208174 -24.34935913\n",
            "  28.5373411   15.66838212  17.16385832 -22.31318204  -2.97684373\n",
            "  -7.75211855  25.60589933   8.6319072   19.3656968   -3.39514807\n",
            " -16.36567669   3.27508722 -26.17096463  19.65787032   7.89986395\n",
            "  15.48526441  -8.72844191  28.24188146  23.58726728  16.70300982\n",
            " -18.32167753  -1.99673978 -27.37177405 -20.74263048  10.98293719\n",
            "  14.68572935  28.05058395 -10.45047851  -7.77241764  -1.82665132\n",
            " -18.63171845 -22.20470968  -1.45770443 -16.38543906  10.18883968\n",
            "  -3.77088487  19.96069176  12.01590612 -11.25800152  19.93558808\n",
            "  18.28586145  -6.75129726 -12.70031376  10.94973024 -21.61485098]\n",
            "shape of sample before is: (50, 28, 28)\n",
            "len(sample.shape) 3\n",
            "angle is: [0.1999082  0.00736227 0.78692438 0.66485086 0.70516538 0.78072903\n",
            " 0.45891578 0.5687412  0.139797   0.11453007 0.66840296 0.47109621\n",
            " 0.56523611 0.76499886 0.63471832 0.5535794  0.55920716 0.3039501\n",
            " 0.03081783 0.43671739 0.21458467 0.40852864 0.85340307 0.23393949\n",
            " 0.05830274 0.28138389 0.29359376 0.66191651 0.55703215 0.78389821\n",
            " 0.66431354 0.40638686 0.81402038 0.16697292 0.02271207 0.09004786\n",
            " 0.72235935 0.46187723 0.16127178 0.50104478 0.1523121  0.69632038\n",
            " 0.44615628 0.38102123 0.30151209 0.63028259 0.36181261 0.08764992\n",
            " 0.1180059  0.96189766]\n",
            "angle with constraint is: [-18.00550785 -29.55826381  17.21546265   9.8910514   12.30992272\n",
            "  16.84374186  -2.46505347   4.12447176 -21.61218011 -23.12819559\n",
            "  10.10417771  -1.73422763   3.91416639  15.89993144   8.0830992\n",
            "   3.21476404   3.55242964 -11.76299412 -28.15092993  -3.79695665\n",
            " -17.12491963  -5.48828138  21.2041844  -15.96363085 -26.5018355\n",
            " -13.11696648 -12.38437453   9.71499088   3.42192914  17.03389255\n",
            "   9.85881242  -5.61678831  18.84122308 -19.98162481 -28.63727561\n",
            " -24.59712835  13.34156104  -2.28736618 -20.32369326   0.06268651\n",
            " -20.86127384  11.7792225   -3.23062347  -7.13872643 -11.90927465\n",
            "   7.81695559  -8.29124337 -24.74100484 -22.91964587  27.71385987]\n",
            "shape of sample before is: (50, 28, 28)\n",
            "len(sample.shape) 3\n",
            "angle is: [0.90858069 0.69970713 0.26586996 0.96917638 0.7787509  0.71689019\n",
            " 0.4493615  0.27224156 0.09639096 0.9026024  0.45577629 0.20236336\n",
            " 0.30595662 0.57921957 0.17677278 0.85661428 0.75851953 0.71946296\n",
            " 0.43209304 0.62730884 0.58409797 0.6498466  0.08444432 0.4158074\n",
            " 0.04161417 0.49399082 0.32986121 0.14452419 0.10340297 0.58764457\n",
            " 0.17059297 0.92512012 0.58106114 0.3468698  0.59091549 0.02280387\n",
            " 0.95855921 0.48230344 0.78273523 0.08273    0.48665833 0.49070699\n",
            " 0.93782645 0.57172805 0.4734894  0.26697566 0.331569   0.5206724\n",
            " 0.43891146 0.02161208]\n",
            "angle with constraint is: [ 24.51484144  11.98242803 -14.04780231  28.15058264  16.72505424\n",
            "  13.01341135  -3.03830987 -13.66550629 -24.21654227  24.15614379\n",
            "  -2.65342261 -17.85819811 -11.64260255   4.75317414 -19.39363302\n",
            "  21.39685705  15.51117179  13.16777736  -4.07441761   7.63853044\n",
            "   5.04587813   8.99079609 -24.93334073  -5.05155587 -27.50314957\n",
            "  -0.36055085 -10.20832726 -21.32854867 -23.79582194   5.25867433\n",
            " -19.76442189  25.5072071    4.86366838  -9.18781173   5.45492949\n",
            " -28.63176774  27.51355279  -1.06179378  16.96411364 -25.0362\n",
            "  -0.80050015  -0.55758034  26.2695873    4.30368314  -1.59063594\n",
            " -13.98146021 -10.10586016   1.24034415  -3.66531238 -28.70327521]\n",
            "shape of sample before is: (50, 28, 28)\n",
            "len(sample.shape) 3\n",
            "angle is: [0.82629192 0.89616077 0.14024909 0.55403614 0.10857574 0.67224009\n",
            " 0.28123378 0.65942263 0.72699461 0.76864749 0.10774095 0.91601185\n",
            " 0.23021399 0.03741256 0.55485247 0.37092228 0.82978974 0.80825147\n",
            " 0.31713889 0.9528994  0.29091784 0.51505713 0.25596509 0.93604357\n",
            " 0.16460782 0.04491062 0.43509706 0.99237556 0.89167727 0.74860802\n",
            " 0.89079249 0.89344664 0.51885836 0.31592905 0.77201243 0.66166126\n",
            " 0.37365773 0.09446667 0.74678961 0.26246052 0.93681315 0.24097058\n",
            " 0.12275793 0.83111267 0.15328432 0.17926831 0.59938279 0.87456204\n",
            " 0.19643467 0.31032367]\n",
            "angle with constraint is: [ 19.57751545  23.76964631 -21.58505466   3.24216861 -23.48545553\n",
            "  10.33440558 -13.12597297   9.56535808  13.61967686  16.11884952\n",
            " -23.53554324  24.96071071 -16.18716055 -27.75524663   3.29114816\n",
            "  -7.74466297  19.78738459  18.49508832 -10.97166643  27.1739637\n",
            " -12.54492971   0.90342775 -14.64209457  26.1626142  -20.12353095\n",
            " -27.30536284  -3.8941764   29.54253384  23.50063598  14.91648117\n",
            "  23.44754945  23.60679838   1.13150162 -11.04425689  16.32074593\n",
            "   9.69967579  -7.58053627 -24.33199992  14.80737668 -14.25236904\n",
            "  26.20878903 -15.5417655  -22.63452406  19.86676033 -20.802941\n",
            " -19.24390151   5.96296749  22.47372245 -18.21392006 -11.38057963]\n",
            "shape of sample before is: (50, 28, 28)\n",
            "len(sample.shape) 3\n",
            "angle is: [0.77740484 0.97182643 0.50074119 0.1438975  0.01393629 0.22965603\n",
            " 0.13182222 0.67765867 0.1218325  0.50632993 0.69426244 0.58111661\n",
            " 0.19977565 0.80412453 0.71540713 0.738984   0.13105775 0.1237538\n",
            " 0.92756255 0.39757819 0.30094869 0.48858405 0.66286421 0.95562326\n",
            " 0.28644623 0.92480843 0.02485949 0.55519804 0.63397511 0.1058974\n",
            " 0.1403396  0.41911432 0.96623191 0.59604255 0.93302322 0.80436092\n",
            " 0.4673816  0.78476345 0.01783678 0.109144   0.82942861 0.79681709\n",
            " 0.23264074 0.53076959 0.60601582 0.86773895 0.60310716 0.41257157\n",
            " 0.37418404 0.42588209]\n",
            "angle with constraint is: [ 16.64429029  28.30958556   0.04447117 -21.36614985 -29.16382274\n",
            " -16.2206382  -22.09066693  10.65952042 -22.69004972   0.3797959\n",
            "  11.65574614   4.86699655 -18.0134609   18.24747157  12.92442778\n",
            "  14.33904023 -22.13653491 -22.57477178  25.65375306  -6.14530837\n",
            " -11.94307849  -0.68495728   9.77185277  27.33739542 -12.81322639\n",
            "  25.48850576 -28.50843052   3.31188254   8.0385067  -23.64615577\n",
            " -21.57962418  -4.85314084  27.97391473   5.76255319  25.9813933\n",
            "  18.26165494  -1.95710391  17.08580696 -28.92979296 -23.45136019\n",
            "  19.76571689  17.8090253  -16.04155548   1.84617544   6.36094924\n",
            "  22.06433723   6.18642944  -5.24570584  -7.5489574   -4.44707482]\n",
            "Accuracy after rotation augmentation is  0.6742\n"
          ]
        }
      ]
    },
    {
      "cell_type": "markdown",
      "source": [
        "The angle constraint is a hyperparameter which we have to tune using a validation set. (Here we are not doing that for time constraints). Let us try a grid search to find the best angle constraint."
      ],
      "metadata": {
        "id": "R6vwKYxNnjvS"
      }
    },
    {
      "cell_type": "code",
      "source": [
        "angleconstraints = [0,10,20,30,40,50,60,70,80,90] # the values we want to test\n",
        "accuracies = np.zeros(len(angleconstraints), dtype=np.float) # we will save the values here\n",
        "\n",
        "for ii in range(len(angleconstraints)):\n",
        "  # create the augmented dataset\n",
        "  augdata = train_X # we include the original images also in the augmented dataset\n",
        "  auglabel = train_y\n",
        "  for jj in range(naugmentations):\n",
        "    augdata = np.concatenate((augdata, augRotate(train_X, angleconstraints[ii]))) # concatenate the augmented data to the set\n",
        "    auglabel = np.concatenate((auglabel, train_y))  # the labels don't change when we augment\n",
        "\n",
        "  # check the test accuracy\n",
        "  testpred = NN(augdata, auglabel, test_X)\n",
        "  accuracies[ii] = Accuracy(test_y, testpred)\n",
        "  print('Accuracy after rotation augmentation constrained by ',angleconstraints[ii], ' is ', accuracies[ii], flush=True)"
      ],
      "metadata": {
        "colab": {
          "base_uri": "https://localhost:8080/"
        },
        "id": "2TuE7cTCnZ9g",
        "outputId": "bf61b8d4-7e7e-4b3e-97ff-754260f50bdd"
      },
      "execution_count": 29,
      "outputs": [
        {
          "output_type": "stream",
          "name": "stderr",
          "text": [
            "<ipython-input-29-2f14d3721156>:2: DeprecationWarning: `np.float` is a deprecated alias for the builtin `float`. To silence this warning, use `float` by itself. Doing this will not modify any behavior and is safe. If you specifically wanted the numpy scalar type, use `np.float64` here.\n",
            "Deprecated in NumPy 1.20; for more details and guidance: https://numpy.org/devdocs/release/1.20.0-notes.html#deprecations\n",
            "  accuracies = np.zeros(len(angleconstraints), dtype=np.float) # we will save the values here\n"
          ]
        },
        {
          "output_type": "stream",
          "name": "stdout",
          "text": [
            "Accuracy after rotation augmentation constrained by  0  is  0.6472\n",
            "shape of sample before is: (50, 28, 28)\n",
            "len(sample.shape) 3\n",
            "angle is: [0.06206311 0.45826204 0.12903006 0.15232671 0.63228281 0.39292739\n",
            " 0.92185245 0.31915649 0.72618013 0.46109943 0.6599513  0.59969536\n",
            " 0.47278397 0.95006109 0.34271364 0.1772355  0.67809406 0.84600756\n",
            " 0.04025374 0.44963269 0.89248769 0.74961862 0.99180772 0.53141381\n",
            " 0.65999572 0.30248028 0.9475356  0.36633549 0.73851071 0.4031402\n",
            " 0.56181893 0.71978254 0.50893415 0.90708633 0.41930099 0.6470718\n",
            " 0.34236243 0.40815667 0.44005011 0.12580702 0.09172368 0.66748992\n",
            " 0.65551774 0.66290971 0.01976645 0.32654684 0.19780985 0.77815142\n",
            " 0.8606304  0.24668038]\n",
            "angle with constraint is: [-4.37936893 -0.41737958 -3.70969943 -3.4767329   1.32282813 -1.07072608\n",
            "  4.2185245  -1.80843505  2.26180128 -0.3890057   1.59951301  0.99695357\n",
            " -0.27216027  4.50061095 -1.57286357 -3.22764499  1.78094061  3.46007561\n",
            " -4.5974626  -0.50367312  3.9248769   2.49618619  4.91807716  0.31413812\n",
            "  1.59995719 -1.97519719  4.475356   -1.33664511  2.38510713 -0.96859796\n",
            "  0.6181893   2.19782535  0.08934152  4.07086327 -0.80699012  1.47071798\n",
            " -1.57637567 -0.91843332 -0.59949892 -3.74192982 -4.08276321  1.67489923\n",
            "  1.55517738  1.62909714 -4.80233555 -1.73453157 -3.02190153  2.78151423\n",
            "  3.60630401 -2.53319623]\n",
            "shape of sample before is: (50, 28, 28)\n",
            "len(sample.shape) 3\n",
            "angle is: [0.66784916 0.1293628  0.27515253 0.1386545  0.28352077 0.67473655\n",
            " 0.91032691 0.20252241 0.54207903 0.7013911  0.95292247 0.61006048\n",
            " 0.25510693 0.62547816 0.32049116 0.97612839 0.39967614 0.68542772\n",
            " 0.02322758 0.40006145 0.87510761 0.61022744 0.44394289 0.9359375\n",
            " 0.85398438 0.32221567 0.5445484  0.48982426 0.6322025  0.33411127\n",
            " 0.244205   0.91267184 0.9238745  0.84332289 0.97820443 0.74499153\n",
            " 0.76466723 0.76259009 0.48060763 0.45645219 0.24022628 0.64481919\n",
            " 0.28932014 0.25780841 0.58596137 0.40998239 0.21885661 0.81605602\n",
            " 0.86056992 0.16769952]\n",
            "angle with constraint is: [ 1.67849159 -3.70637197 -2.24847474 -3.61345504 -2.16479233  1.74736547\n",
            "  4.1032691  -2.97477592  0.42079035  2.01391101  4.52922468  1.10060483\n",
            " -2.44893069  1.25478157 -1.79508838  4.76128391 -1.00323865  1.85427721\n",
            " -4.76772418 -0.99938554  3.75107613  1.10227444 -0.56057114  4.35937499\n",
            "  3.53984376 -1.77784326  0.44548402 -0.10175744  1.322025   -1.65888733\n",
            " -2.55794999  4.12671835  4.23874499  3.43322886  4.78204431  2.44991526\n",
            "  2.64667229  2.62590092 -0.19392369 -0.43547805 -2.59773724  1.44819194\n",
            " -2.10679864 -2.4219159   0.85961374 -0.90017612 -2.81143391  3.16056017\n",
            "  3.60569919 -3.3230048 ]\n",
            "shape of sample before is: (50, 28, 28)\n",
            "len(sample.shape) 3\n",
            "angle is: [0.00750703 0.33612997 0.79751084 0.83917387 0.13832907 0.7743359\n",
            " 0.11570417 0.39006259 0.99860952 0.19259082 0.15396358 0.42280033\n",
            " 0.61966853 0.93290078 0.98082115 0.06964064 0.13799752 0.79073797\n",
            " 0.27063215 0.88484906 0.66345326 0.1118448  0.83252928 0.17635638\n",
            " 0.42349539 0.55218493 0.50076615 0.68616292 0.65268673 0.99204201\n",
            " 0.99942191 0.5164594  0.09519909 0.7278433  0.97666408 0.31832639\n",
            " 0.46120889 0.42477692 0.05141915 0.67226443 0.3533377  0.78746387\n",
            " 0.83212008 0.82123079 0.416666   0.32154568 0.74882078 0.80138943\n",
            " 0.49125745 0.89303102]\n",
            "angle with constraint is: [-4.92492967 -1.63870031  2.97510836  3.39173866 -3.6167093   2.74335901\n",
            " -3.84295833 -1.0993741   4.98609515 -3.07409177 -3.46036417 -0.77199667\n",
            "  1.19668526  4.32900782  4.80821146 -4.30359363 -3.62002483  2.90737974\n",
            " -2.29367848  3.8484906   1.63453257 -3.88155198  3.32529285 -3.2364362\n",
            " -0.76504605  0.52184929  0.00766149  1.86162916  1.52686735  4.92042006\n",
            "  4.99421909  0.16459403 -4.04800913  2.27843299  4.76664078 -1.81673612\n",
            " -0.38791114 -0.75223075 -4.48580845  1.72264431 -1.46662305  2.87463875\n",
            "  3.32120075  3.21230787 -0.83334002 -1.78454318  2.4882078   3.01389434\n",
            " -0.08742554  3.9303102 ]\n",
            "shape of sample before is: (50, 28, 28)\n",
            "len(sample.shape) 3\n",
            "angle is: [1.43908696e-01 8.79068780e-01 9.60952330e-02 1.53525522e-01\n",
            " 5.33840013e-01 6.75184802e-02 5.28071014e-02 5.18744166e-04\n",
            " 4.36316660e-01 7.74623881e-01 3.48383503e-02 6.52257606e-01\n",
            " 8.23127317e-01 1.68000849e-01 1.46863735e-01 8.60800974e-01\n",
            " 8.23124610e-01 5.38941766e-01 8.19199879e-01 9.27560774e-02\n",
            " 3.94481518e-01 7.37797556e-01 2.57451959e-01 7.52328914e-01\n",
            " 5.04178604e-01 7.50265988e-01 4.64679638e-01 3.67904340e-01\n",
            " 2.19189216e-01 2.08379341e-01 7.51490811e-01 1.18910348e-01\n",
            " 8.59823501e-02 1.76291365e-01 1.75346511e-01 8.23107623e-01\n",
            " 3.98506623e-01 9.90388457e-01 1.37211258e-01 6.53539826e-01\n",
            " 4.48729507e-01 3.92918177e-01 8.75084199e-01 9.75595646e-01\n",
            " 8.72858959e-01 1.92300679e-01 2.20797921e-01 6.56073879e-01\n",
            " 2.89083582e-01 7.34725131e-01]\n",
            "angle with constraint is: [-3.56091304  3.7906878  -4.03904767 -3.46474478  0.33840013 -4.3248152\n",
            " -4.47192899 -4.99481256 -0.6368334   2.74623881 -4.6516165   1.52257606\n",
            "  3.23127317 -3.31999151 -3.53136265  3.60800974  3.2312461   0.38941766\n",
            "  3.19199879 -4.07243923 -1.05518482  2.37797556 -2.42548041  2.52328914\n",
            "  0.04178604  2.50265988 -0.35320362 -1.3209566  -2.80810784 -2.91620659\n",
            "  2.51490811 -3.81089652 -4.1401765  -3.23708635 -3.24653489  3.23107623\n",
            " -1.01493377  4.90388457 -3.62788742  1.53539826 -0.51270493 -1.07081823\n",
            "  3.75084199  4.75595646  3.72858959 -3.07699321 -2.79202079  1.56073879\n",
            " -2.10916418  2.34725131]\n",
            "shape of sample before is: (50, 28, 28)\n",
            "len(sample.shape) 3\n",
            "angle is: [0.56642065 0.55090877 0.82854692 0.71053277 0.02657776 0.04945914\n",
            " 0.60155845 0.48619208 0.26018466 0.41865609 0.75791032 0.82661148\n",
            " 0.56122307 0.38536948 0.27069676 0.52191847 0.31474962 0.56409514\n",
            " 0.67665238 0.06607921 0.00106747 0.21227714 0.8945115  0.64629076\n",
            " 0.17196035 0.89026396 0.46995594 0.47609176 0.93554194 0.05948669\n",
            " 0.21517827 0.58577133 0.19548651 0.67952701 0.21409229 0.09915697\n",
            " 0.20698516 0.42273403 0.1761383  0.13469202 0.86028189 0.3203972\n",
            " 0.36075869 0.05527041 0.35736962 0.26480718 0.61048507 0.2053903\n",
            " 0.88836545 0.92966662]\n",
            "angle with constraint is: [ 0.66420651  0.50908768  3.28546925  2.10532772 -4.73422235 -4.50540863\n",
            "  1.01558452 -0.13807924 -2.39815345 -0.81343913  2.57910319  3.26611485\n",
            "  0.61223068 -1.14630519 -2.29303239  0.21918471 -1.85250381  0.64095137\n",
            "  1.76652383 -4.33920789 -4.98932535 -2.87722861  3.94511498  1.46290763\n",
            " -3.28039648  3.90263962 -0.3004406  -0.23908243  4.35541944 -4.40513308\n",
            " -2.84821725  0.85771325 -3.0451349   1.79527009 -2.85907711 -4.00843029\n",
            " -2.9301484  -0.77265966 -3.23861701 -3.65307975  3.60281886 -1.79602796\n",
            " -1.39241313 -4.4472959  -1.42630376 -2.35192823  1.10485067 -2.94609702\n",
            "  3.88365453  4.29666621]\n",
            "Accuracy after rotation augmentation constrained by  10  is  0.6775\n",
            "shape of sample before is: (50, 28, 28)\n",
            "len(sample.shape) 3\n",
            "angle is: [0.09983106 0.10740296 0.11532644 0.61956926 0.12196896 0.85238232\n",
            " 0.75427151 0.81980886 0.52606053 0.99667721 0.0441751  0.40126496\n",
            " 0.32393667 0.9486455  0.57686096 0.80619097 0.17034119 0.97863414\n",
            " 0.49863955 0.49367208 0.97088473 0.38073236 0.39752502 0.5847527\n",
            " 0.12805261 0.32108563 0.19320832 0.10328348 0.86614461 0.58933117\n",
            " 0.35867279 0.40866938 0.431519   0.63314918 0.92676939 0.93277962\n",
            " 0.39149198 0.32926246 0.4510465  0.56793423 0.46181791 0.65875341\n",
            " 0.55439902 0.32071555 0.34573081 0.37859279 0.09463977 0.16606263\n",
            " 0.7231138  0.38909671]\n",
            "angle with constraint is: [-8.00337886 -7.85194087 -7.69347124  2.39138513 -7.56062072  7.04764636\n",
            "  5.0854303   6.39617716  0.52121054  9.93354423 -9.11649794 -1.97470072\n",
            " -3.52126662  8.97290997  1.53721917  6.12381931 -6.59317613  9.57268288\n",
            " -0.02720906 -0.12655847  9.41769457 -2.38535278 -2.04949951  1.69505406\n",
            " -7.43894779 -3.57828747 -6.13583355 -7.93433042  7.32289213  1.78662332\n",
            " -2.82654417 -1.82661245 -1.36961993  2.66298364  8.53538783  8.65559239\n",
            " -2.17016041 -3.41475081 -0.97907     1.35868461 -0.76364177  3.1750682\n",
            "  1.08798047 -3.58568907 -3.08538388 -2.42814425 -8.10720464 -6.67874735\n",
            "  4.46227604 -2.21806577]\n",
            "shape of sample before is: (50, 28, 28)\n",
            "len(sample.shape) 3\n",
            "angle is: [0.21453897 0.56267241 0.75553954 0.25742236 0.82678988 0.92750486\n",
            " 0.59739453 0.66894766 0.05257599 0.94551989 0.39248473 0.9239004\n",
            " 0.57897752 0.0046188  0.038542   0.68041881 0.56266801 0.02653244\n",
            " 0.74345996 0.85214534 0.49641748 0.46575744 0.00547311 0.78664971\n",
            " 0.33071607 0.87876362 0.37306059 0.56507791 0.27034179 0.16058831\n",
            " 0.7749079  0.49659048 0.53648792 0.96541595 0.96357991 0.85564212\n",
            " 0.18760929 0.59427269 0.87814742 0.37446394 0.10110617 0.8109629\n",
            " 0.48176355 0.56439268 0.9821443  0.60721143 0.42497939 0.36998437\n",
            " 0.41761929 0.11839908]\n",
            "angle with constraint is: [-5.70922055  1.25344821  5.11079085 -4.85155275  6.53579764  8.55009719\n",
            "  1.94789058  3.37895318 -8.94848019  8.91039782 -2.15030531  8.47800801\n",
            "  1.5795505  -9.90762402 -9.22916001  3.60837611  1.25336028 -9.46935126\n",
            "  4.86919922  7.04290674 -0.07165035 -0.68485119 -9.89053782  5.73299425\n",
            " -3.38567867  7.5752724  -2.53878825  1.30155821 -4.59316424 -6.78823375\n",
            "  5.49815807 -0.06819042  0.72975848  9.30831907  9.27159824  7.11284243\n",
            " -6.24781414  1.88545389  7.56294849 -2.51072127 -7.97787668  6.21925804\n",
            " -0.36472897  1.28785361  9.64288593  2.14422861 -1.50041229 -2.60031264\n",
            " -1.64761415 -7.63201834]\n",
            "shape of sample before is: (50, 28, 28)\n",
            "len(sample.shape) 3\n",
            "angle is: [0.79475056 0.83771686 0.28439713 0.30379662 0.87433426 0.02397036\n",
            " 0.52045744 0.46367571 0.69012677 0.1633917  0.66833074 0.37673401\n",
            " 0.61871478 0.04009501 0.4617272  0.52225089 0.2143264  0.13962365\n",
            " 0.1884743  0.34414108 0.09681015 0.9473198  0.40499406 0.8089696\n",
            " 0.97441712 0.08073528 0.65166947 0.87140909 0.63423443 0.42902612\n",
            " 0.43107636 0.03589889 0.53460075 0.993543   0.95870753 0.04039923\n",
            " 0.705797   0.30176487 0.90298915 0.04511475 0.9358741  0.83747574\n",
            " 0.11750438 0.05982434 0.83470766 0.15575767 0.53489815 0.91574486\n",
            " 0.56744811 0.3972333 ]\n",
            "angle with constraint is: [ 5.89501117  6.75433716 -4.31205731 -3.92406763  7.48668513 -9.52059289\n",
            "  0.40914888 -0.72648571  3.80253539 -6.732166    3.36661482 -2.46531984\n",
            "  2.37429556 -9.1980998  -0.76545606  0.44501788 -5.71347194 -7.20752692\n",
            " -6.23051394 -3.11717844 -8.06379701  8.94639591 -1.90011877  6.17939205\n",
            "  9.48834246 -8.3852944   3.03338936  7.42818173  2.68468868 -1.41947757\n",
            " -1.37847285 -9.28202228  0.69201503  9.87085994  9.17415052 -9.19201542\n",
            "  4.11594007 -3.96470267  8.05978307 -9.09770509  8.71748204  6.74951488\n",
            " -7.64991235 -8.80351325  6.69415329 -6.88484658  0.69796306  8.31489716\n",
            "  1.34896227 -2.05533397]\n",
            "shape of sample before is: (50, 28, 28)\n",
            "len(sample.shape) 3\n",
            "angle is: [0.44501605 0.06311717 0.96875232 0.31065419 0.18936349 0.2860473\n",
            " 0.96437319 0.09428605 0.86730304 0.70784389 0.83001918 0.97589754\n",
            " 0.84215466 0.94338235 0.12693526 0.79578857 0.54567569 0.5434956\n",
            " 0.89892158 0.97180382 0.70483832 0.48293839 0.45640386 0.38634146\n",
            " 0.36159903 0.39150684 0.08975324 0.07743609 0.77986984 0.44607289\n",
            " 0.93068449 0.61222101 0.03517598 0.15752334 0.20581979 0.97573602\n",
            " 0.21870423 0.51575568 0.93617693 0.97719273 0.23636044 0.04911764\n",
            " 0.15360183 0.06332848 0.19512424 0.56856971 0.9124488  0.53721888\n",
            " 0.62598956 0.20186725]\n",
            "angle with constraint is: [-1.0996789  -8.73765659  9.37504643 -3.7869163  -6.21273017 -4.27905396\n",
            "  9.2874639  -8.11427893  7.34606081  4.15687789  6.60038358  9.51795081\n",
            "  6.84309311  8.86764703 -7.46129486  5.9157713   0.91351388  0.8699119\n",
            "  7.97843153  9.43607637  4.09676646 -0.34123221 -0.87192284 -2.27317086\n",
            " -2.76801941 -2.16986317 -8.20493529 -8.45127829  5.59739688 -1.07854214\n",
            "  8.61368977  2.24442017 -9.29648036 -6.84953317 -5.88360414  9.51472049\n",
            " -5.62591548  0.31511353  8.72353863  9.5438546  -5.27279129 -9.01764712\n",
            " -6.92796335 -8.73343043 -6.09751518  1.37139429  8.24897593  0.74437767\n",
            "  2.51979113 -5.96265497]\n",
            "shape of sample before is: (50, 28, 28)\n",
            "len(sample.shape) 3\n",
            "angle is: [0.80058362 0.61778891 0.86413683 0.94884311 0.34790078 0.09057906\n",
            " 0.22592896 0.43784157 0.94569365 0.37830982 0.77077321 0.54047669\n",
            " 0.18280877 0.32073412 0.65319189 0.67285339 0.43475975 0.2286456\n",
            " 0.72190678 0.16887304 0.93666969 0.18790358 0.10731236 0.4976477\n",
            " 0.5195496  0.50819291 0.43666749 0.99481489 0.48628061 0.47794658\n",
            " 0.42176606 0.06682575 0.59295663 0.22796777 0.63760898 0.05083346\n",
            " 0.9813871  0.46900508 0.89675537 0.47556117 0.06033082 0.82221355\n",
            " 0.64818373 0.78175705 0.42816986 0.63793674 0.856229   0.63106544\n",
            " 0.34767363 0.66252959]\n",
            "angle with constraint is: [ 6.01167241  2.35577817  7.28273658  8.97686214 -3.04198448 -8.18841883\n",
            " -5.48142084 -1.24316869  8.91387304 -2.43380355  5.41546427  0.80953384\n",
            " -6.34382459 -3.58531762  3.0638377   3.45706789 -1.30480506 -5.42708795\n",
            "  4.43813559 -6.62253917  8.73339384 -6.24192842 -7.85375274 -0.04704595\n",
            "  0.39099196  0.1638583  -1.26665021  9.89629786 -0.27438775 -0.44106839\n",
            " -1.56467875 -8.66348491  1.85913262 -5.44064456  2.7521796  -8.98333076\n",
            "  9.62774203 -0.61989842  7.93510743 -0.48877654 -8.79338363  6.44427092\n",
            "  2.96367459  5.63514095 -1.43660273  2.75873488  7.12458008  2.62130886\n",
            " -3.0465273   3.25059189]\n",
            "Accuracy after rotation augmentation constrained by  20  is  0.6794\n",
            "shape of sample before is: (50, 28, 28)\n",
            "len(sample.shape) 3\n",
            "angle is: [0.67185419 0.96058696 0.37091232 0.42508177 0.81212296 0.50576231\n",
            " 0.73657309 0.45970946 0.21549514 0.74520384 0.13115517 0.19858366\n",
            " 0.62682498 0.7472698  0.89468789 0.2725865  0.11072426 0.95604666\n",
            " 0.15442309 0.19766698 0.29132945 0.52939135 0.88282557 0.76054602\n",
            " 0.70815755 0.17518057 0.35768263 0.47840493 0.14742595 0.2734297\n",
            " 0.3083332  0.1272762  0.55023969 0.7050282  0.06993163 0.4811231\n",
            " 0.7822112  0.74799013 0.8150731  0.44824063 0.82055708 0.24075307\n",
            " 0.36081056 0.17635558 0.46748454 0.39206002 0.24092712 0.75178071\n",
            " 0.31384677 0.27280433]\n",
            "angle with constraint is: [  5.15562566  13.81760888  -3.87263035  -2.24754697   9.36368884\n",
            "   0.17286944   7.09719279  -1.20871607  -8.53514575   7.35611528\n",
            " -11.06534492  -9.04249009   3.80474948   7.41809401  11.84063661\n",
            "  -6.82240508 -11.67827224  13.68139979 -10.36730736  -9.06999053\n",
            "  -6.26011639   0.88174062  11.48476698   7.81638068   6.24472662\n",
            "  -9.74458296  -4.26952105  -0.64785222 -10.5772214   -6.79710894\n",
            "  -5.75000388 -11.18171405   1.50719076   6.1508459  -12.90205106\n",
            "  -0.56630695   8.46633586   7.43970387   9.45219289  -1.552781\n",
            "   9.61671248  -7.77740786  -4.17568316  -9.70933271  -0.97546382\n",
            "  -3.23819933  -7.77218651   7.55342128  -5.58459684  -6.8158701 ]\n",
            "shape of sample before is: (50, 28, 28)\n",
            "len(sample.shape) 3\n",
            "angle is: [0.13089033 0.4388217  0.30296463 0.36927284 0.23599726 0.76315549\n",
            " 0.93000335 0.49793185 0.64299842 0.86717228 0.99882964 0.61351648\n",
            " 0.88977947 0.90860825 0.79145149 0.46093139 0.081154   0.01580556\n",
            " 0.47720063 0.49431453 0.40736239 0.56816735 0.5521627  0.83661304\n",
            " 0.1086571  0.22517767 0.79300498 0.84783687 0.99482421 0.87291202\n",
            " 0.88989901 0.31434794 0.40166163 0.2680851  0.6062994  0.93880535\n",
            " 0.34464089 0.55700178 0.29629963 0.16979997 0.19518553 0.05794534\n",
            " 0.94929352 0.40287961 0.83412089 0.68132947 0.19192116 0.17546225\n",
            " 0.8119882  0.26471171]\n",
            "angle with constraint is: [-11.07329007  -1.83534895  -5.91106113  -3.92181476  -7.92008212\n",
            "   7.89466469  12.90010042  -0.06204442   4.2899527   11.0151683\n",
            "  14.96488912   3.40549454  11.693384    12.2582474    8.74354463\n",
            "  -1.17205827 -12.56537999 -14.52583334  -0.683981    -0.17056399\n",
            "  -2.77912836   2.04502054   1.5648811   10.09839123 -11.7402869\n",
            "  -8.24467002   8.79014937  10.43510602  14.84472641  11.18736049\n",
            "  11.69697021  -5.56956172  -2.95015098  -6.95744686   3.18898195\n",
            "  13.16416063  -4.6607734    1.71005346  -6.11101109  -9.90600079\n",
            "  -9.14443411 -13.26163966  13.47880569  -2.91361174  10.02362676\n",
            "   5.43988418  -9.24236516  -9.7361326    9.35964605  -7.05864868]\n",
            "shape of sample before is: (50, 28, 28)\n",
            "len(sample.shape) 3\n",
            "angle is: [0.91328518 0.1400554  0.67770861 0.81447388 0.23525639 0.27620736\n",
            " 0.96451889 0.26459761 0.42995705 0.43251559 0.25303475 0.77579109\n",
            " 0.77184934 0.37831801 0.83512579 0.21307493 0.00430578 0.57116736\n",
            " 0.99407777 0.03864431 0.20799807 0.51891464 0.80994074 0.08904201\n",
            " 0.39523465 0.7470758  0.37154321 0.18883642 0.19549583 0.41004879\n",
            " 0.47941707 0.86181442 0.64225242 0.69040195 0.98298717 0.41184344\n",
            " 0.4033544  0.92334697 0.24587559 0.72981525 0.75457314 0.097788\n",
            " 0.46823141 0.20056247 0.18537527 0.46382811 0.28942971 0.79606045\n",
            " 0.90760489 0.80272061]\n",
            "angle with constraint is: [ 12.39855551 -10.79833786   5.33125843   9.43421628  -7.94230835\n",
            "  -6.7137791   13.93556658  -7.06207184  -2.1012885   -2.0245322\n",
            "  -7.4089575    8.27373259   8.1554803   -3.65045957  10.05377373\n",
            "  -8.60775197 -14.87082673   2.13502086  14.82233317 -13.84067071\n",
            "  -8.76005779   0.56743927   9.29822209 -12.32873985  -3.14296039\n",
            "   7.41227402  -3.85370375  -9.33490739  -9.13512518  -2.69853639\n",
            "  -0.61748776  10.85443253   4.26757256   5.71205864  14.48961515\n",
            "  -2.64469679  -2.8993679   12.70040903  -7.62373239   6.89445739\n",
            "   7.63719415 -12.06636008  -0.95305783  -8.98312586  -9.43874182\n",
            "  -1.08515669  -6.31710877   8.88181343  12.22814674   9.08161816]\n",
            "shape of sample before is: (50, 28, 28)\n",
            "len(sample.shape) 3\n",
            "angle is: [0.26603087 0.27413439 0.25472835 0.1350381  0.94379837 0.4020478\n",
            " 0.22468947 0.84667105 0.3991953  0.03511681 0.16194157 0.63925034\n",
            " 0.78290527 0.21093439 0.91739559 0.85099712 0.84838075 0.22766115\n",
            " 0.05053599 0.86742354 0.30580023 0.61891638 0.75996688 0.12829326\n",
            " 0.78083835 0.93851146 0.72837497 0.44122275 0.87667814 0.52745763\n",
            " 0.74477093 0.82050594 0.74935286 0.28785488 0.1178439  0.23833853\n",
            " 0.50287494 0.50527692 0.58264435 0.39510184 0.78689138 0.91315375\n",
            " 0.24672505 0.73652322 0.67797185 0.5230905  0.18853023 0.79523226\n",
            " 0.96062629 0.72183633]\n",
            "angle with constraint is: [ -7.01907382  -6.77596819  -7.3581495  -10.94885712  13.31395104\n",
            "  -2.93856606  -8.25931576  10.40013152  -3.02414092 -13.94649567\n",
            " -10.14175289   4.17751021   8.48715823  -8.67196835  12.52186768\n",
            "  10.5299136   10.45142262  -8.1701656  -13.48392034  11.02270618\n",
            "  -5.82599314   3.56749144   7.79900651 -11.15120224   8.42515064\n",
            "  13.15534377   6.85124897  -1.76331755  11.30034416   0.8237289\n",
            "   7.34312783   9.61517832   7.48058585  -6.36435372 -11.46468297\n",
            "  -7.84984412   0.08624811   0.15830767   2.47933048  -3.14694487\n",
            "   8.60674144  12.39461251  -7.5982484    7.09569653   5.33915558\n",
            "   0.69271498  -9.34409298   8.85696776  13.81878857   6.65508997]\n",
            "shape of sample before is: (50, 28, 28)\n",
            "len(sample.shape) 3\n",
            "angle is: [0.91786    0.98418526 0.35205067 0.63822355 0.47393274 0.98662875\n",
            " 0.09380782 0.41237491 0.87553904 0.28405131 0.78779285 0.38278316\n",
            " 0.97997854 0.88352984 0.30132036 0.77019311 0.33685654 0.60636284\n",
            " 0.65848077 0.82959541 0.02445084 0.22015789 0.71191781 0.56352324\n",
            " 0.49560508 0.05520996 0.34827588 0.86510023 0.03089284 0.39643624\n",
            " 0.94514829 0.05088073 0.74970575 0.25761262 0.86660883 0.74606798\n",
            " 0.88570517 0.21592479 0.53129275 0.77926994 0.24569974 0.23074631\n",
            " 0.02718213 0.95851529 0.71001688 0.63556035 0.74399472 0.53161292\n",
            " 0.47613382 0.44953224]\n",
            "angle with constraint is: [ 12.5357999   14.52555795  -4.43847977   4.14670659  -0.78201787\n",
            "  14.59886241 -12.18576528  -2.62875257  11.26617134  -6.47846068\n",
            "   8.63378552  -3.51650512  14.3993562   11.50589509  -5.96038927\n",
            "   8.10579341  -4.89430369   3.19088521   4.75442305   9.88786227\n",
            " -14.26647477  -8.39526327   6.35753432   1.90569711  -0.13184765\n",
            " -13.3437013   -4.5517235   10.95300696 -14.07321489  -3.10691294\n",
            "  13.35444863 -13.47357796   7.49117253  -7.27162151  10.99826496\n",
            "   7.38203937  11.57115513  -8.52225629   0.93878264   8.37809831\n",
            "  -7.62900771  -8.07761084 -14.184536    13.75545882   6.3005064\n",
            "   4.06681062   7.31984168   0.94838756  -0.71598537  -1.51403277]\n",
            "Accuracy after rotation augmentation constrained by  30  is  0.6847\n",
            "shape of sample before is: (50, 28, 28)\n",
            "len(sample.shape) 3\n",
            "angle is: [0.64043921 0.20153498 0.8880587  0.81175237 0.34956361 0.5786093\n",
            " 0.1410273  0.97234625 0.90289269 0.92189751 0.33216305 0.16913471\n",
            " 0.21177216 0.09000139 0.12011063 0.07130453 0.98982307 0.07405768\n",
            " 0.13254208 0.8272546  0.58024022 0.7744172  0.63091201 0.88217507\n",
            " 0.63846753 0.52212509 0.71274969 0.44739275 0.34606382 0.46765245\n",
            " 0.16971411 0.79657173 0.26070378 0.15353155 0.24635224 0.84207015\n",
            " 0.3302013  0.68604987 0.85640963 0.07774467 0.76502441 0.30766547\n",
            " 0.21662236 0.68890145 0.90979662 0.29501921 0.56883381 0.28983411\n",
            " 0.55428559 0.62186203]\n",
            "angle with constraint is: [  5.61756848 -11.93860098  15.5223478   12.47009485  -6.01745554\n",
            "   3.14437187 -14.358908    18.89384992  16.11570751  16.87590026\n",
            "  -6.71347809 -13.2346117  -11.52911346 -16.39994436 -15.1955748\n",
            " -17.14781863  19.59292277 -17.03769267 -14.69831676  13.09018382\n",
            "   3.20960867  10.97668818   5.23648031  15.28700281   5.53870111\n",
            "   0.88500372   8.50998775  -2.10428993  -6.15744708  -1.2939019\n",
            " -13.2114358   11.86286919  -9.57184875 -13.85873815 -10.14591033\n",
            "  13.68280607  -6.79194818   7.44199478  14.25638523 -16.89021332\n",
            "  10.60097621  -7.69338134 -11.33510543   7.5560581   16.39186491\n",
            "  -8.19923165   2.75335222  -8.40663545   2.17142343   4.87448123]\n",
            "shape of sample before is: (50, 28, 28)\n",
            "len(sample.shape) 3\n",
            "angle is: [6.10335389e-01 6.23546370e-01 1.35079792e-01 6.93540470e-01\n",
            " 6.74750356e-01 6.82588122e-01 7.40705527e-02 4.46838842e-01\n",
            " 4.09035132e-01 8.67114836e-02 2.22367928e-01 4.40962632e-01\n",
            " 7.42906310e-01 2.37062077e-01 8.29749910e-01 5.45798286e-01\n",
            " 7.60421685e-01 4.72555983e-01 4.99194225e-01 6.19719389e-01\n",
            " 9.27970608e-01 4.91812581e-01 5.28657538e-01 6.01996964e-01\n",
            " 7.37515137e-01 7.18503355e-02 5.15687439e-01 4.81591589e-01\n",
            " 9.21684984e-01 4.93506580e-01 4.68320535e-01 9.62199989e-01\n",
            " 4.50576464e-01 1.80884430e-01 2.16916123e-01 9.51875383e-02\n",
            " 5.68129259e-04 4.31945661e-01 7.69242581e-01 7.33466443e-01\n",
            " 3.21490878e-02 5.69982904e-01 1.54283125e-01 9.41076285e-01\n",
            " 1.67365000e-01 6.26639218e-01 3.26238362e-01 6.41561326e-01\n",
            " 4.12258596e-01 7.59643052e-01]\n",
            "angle with constraint is: [  4.41341555   4.94185479 -14.59680831   7.74161878   6.99001426\n",
            "   7.30352489 -17.03717789  -2.1264463   -3.63859472 -16.53154065\n",
            " -11.10528288  -2.36149473   9.71625239 -10.51751692  13.1899964\n",
            "   1.83193143  10.41686741  -1.09776067  -0.03223098   4.78877558\n",
            "  17.11882433  -0.32749674   1.14630152   4.07987854   9.50060549\n",
            " -17.12598658   0.62749754  -0.73633643  16.86739937  -0.25973678\n",
            "  -1.26717861  18.48799954  -1.97694146 -12.76462279 -11.32335509\n",
            " -16.19249847 -19.97727483  -2.72217356  10.76970325   9.33865771\n",
            " -18.71403649   2.79931614 -13.82867498  17.64305139 -13.30540001\n",
            "   5.06556871  -6.95046551   5.66245304  -3.50965614  10.38572209]\n",
            "shape of sample before is: (50, 28, 28)\n",
            "len(sample.shape) 3\n",
            "angle is: [0.23067913 0.90579185 0.50020965 0.75609315 0.84973019 0.99882861\n",
            " 0.22394567 0.28689241 0.25043309 0.26287133 0.58244474 0.99352252\n",
            " 0.99027809 0.52677323 0.63902721 0.85997054 0.93293346 0.20386063\n",
            " 0.52854173 0.83283705 0.30320208 0.43980904 0.9856211  0.9850467\n",
            " 0.90610681 0.79844834 0.2691305  0.32085007 0.54728284 0.56077737\n",
            " 0.50550282 0.63667028 0.40832302 0.74917416 0.33354993 0.330677\n",
            " 0.12722596 0.18871221 0.85052088 0.44628234 0.22786779 0.7593411\n",
            " 0.55398113 0.02115601 0.31636146 0.17700141 0.65587286 0.27503104\n",
            " 0.06494678 0.05493499]\n",
            "angle with constraint is: [-1.07728350e+01  1.62316741e+01  8.38597253e-03  1.02437259e+01\n",
            "  1.39892077e+01  1.99531444e+01 -1.10421734e+01 -8.52430346e+00\n",
            " -9.98267653e+00 -9.48514671e+00  3.29778966e+00  1.97409009e+01\n",
            "  1.96111235e+01  1.07092925e+00  5.56108841e+00  1.43988217e+01\n",
            "  1.73173383e+01 -1.18455749e+01  1.14166916e+00  1.33134822e+01\n",
            " -7.87191693e+00 -2.40763830e+00  1.94248441e+01  1.94018679e+01\n",
            "  1.62442724e+01  1.19379338e+01 -9.23477997e+00 -7.16599704e+00\n",
            "  1.89131365e+00  2.43109498e+00  2.20112774e-01  5.46681120e+00\n",
            " -3.66707909e+00  9.96696629e+00 -6.65800294e+00 -6.77292012e+00\n",
            " -1.49109615e+01 -1.24515116e+01  1.40208352e+01 -2.14870646e+00\n",
            " -1.08852885e+01  1.03736440e+01  2.15924503e+00 -1.91537595e+01\n",
            " -7.34554171e+00 -1.29199436e+01  6.23491444e+00 -8.99875837e+00\n",
            " -1.74021288e+01 -1.78026004e+01]\n",
            "shape of sample before is: (50, 28, 28)\n",
            "len(sample.shape) 3\n",
            "angle is: [0.5817273  0.02172346 0.84879211 0.15539712 0.60656634 0.44468803\n",
            " 0.44285152 0.07179714 0.80275225 0.89305248 0.01101667 0.17860418\n",
            " 0.90390419 0.54949361 0.15003958 0.20279045 0.65998624 0.72481682\n",
            " 0.59942681 0.95314838 0.4940636  0.30027191 0.47723291 0.35966629\n",
            " 0.22441589 0.04596325 0.35221249 0.71140935 0.0184378  0.43917851\n",
            " 0.6440094  0.61040411 0.77664844 0.81051972 0.71170582 0.1027977\n",
            " 0.47502244 0.60340596 0.24556604 0.04255182 0.22359032 0.4548944\n",
            " 0.41393032 0.17666698 0.82441554 0.92568667 0.20134832 0.92957292\n",
            " 0.01786096 0.92496247]\n",
            "angle with constraint is: [  3.26909192 -19.13106177  13.95168453 -13.78411523   4.26265341\n",
            "  -2.21247888  -2.28593915 -17.12811431  12.11009001  15.72209939\n",
            " -19.5593333  -12.85583297  16.15616755   1.97974451 -13.99841687\n",
            " -11.8883819    6.39944977   8.99267289   3.97707234  18.1259352\n",
            "  -0.23745585  -7.98912351  -0.9106836   -5.61334825 -11.02336429\n",
            " -18.16147003  -5.91150026   8.45637391 -19.26248788  -2.43285947\n",
            "   5.76037606   4.41616437  11.06593744  12.42078863   8.46823284\n",
            " -15.88809215  -0.99910224   4.1362383  -10.17735845 -18.29792729\n",
            " -11.05638716  -1.80422393  -3.44278724 -12.93332075  12.97662171\n",
            "  17.02746675 -11.94606724  17.18291662 -19.28556163  16.99849891]\n",
            "shape of sample before is: (50, 28, 28)\n",
            "len(sample.shape) 3\n",
            "angle is: [0.95192879 0.01205186 0.7630193  0.97020157 0.90590222 0.97071016\n",
            " 0.55032351 0.07815614 0.8497892  0.61382826 0.61473674 0.41725361\n",
            " 0.57184198 0.15357978 0.73977003 0.07501731 0.72978077 0.84897842\n",
            " 0.47246868 0.50983037 0.31221427 0.96945858 0.73312447 0.36898855\n",
            " 0.17480739 0.21957959 0.46392229 0.9425684  0.73414635 0.21524375\n",
            " 0.85956113 0.37820052 0.85172218 0.2416996  0.61866061 0.92667049\n",
            " 0.25789401 0.69292659 0.98731262 0.15059829 0.08840229 0.67419519\n",
            " 0.33973595 0.07124448 0.47530562 0.75377068 0.2851224  0.33504688\n",
            " 0.8456994  0.52007191]\n",
            "angle with constraint is: [ 18.0771516  -19.51792548  10.52077187  18.8080629   16.23608875\n",
            "  18.82840645   2.01294023 -16.8737544   13.99156791   4.55313023\n",
            "   4.58946977  -3.30985561   2.87367906 -13.85680884   9.59080106\n",
            " -16.99930771   9.19123068  13.9591369   -1.1012529    0.39321464\n",
            "  -7.51142908  18.77834335   9.32497898  -5.24045787 -13.00770455\n",
            " -11.21681631  -1.44310856  17.70273601   9.36585383 -11.39025007\n",
            "  14.38244534  -4.87197908  14.06888731 -10.33201608   4.74642448\n",
            "  17.06681952  -9.68423963   7.71706362  19.4925048  -13.97606851\n",
            " -16.46390837   6.9678077   -6.41056209 -17.15022091  -0.98777528\n",
            "  10.15082719  -8.59510398  -6.5981249   13.82797603   0.80287649]\n",
            "Accuracy after rotation augmentation constrained by  40  is  0.6802\n",
            "shape of sample before is: (50, 28, 28)\n",
            "len(sample.shape) 3\n",
            "angle is: [0.84273197 0.44638949 0.95297516 0.65079459 0.11589887 0.88509299\n",
            " 0.48926519 0.14163897 0.15269013 0.68753394 0.04737251 0.28659376\n",
            " 0.13978759 0.44107743 0.41435377 0.52187643 0.27963633 0.03204359\n",
            " 0.61438611 0.373718   0.651335   0.10866697 0.01377736 0.24829425\n",
            " 0.45654732 0.39407197 0.81030256 0.37783764 0.53044118 0.59351559\n",
            " 0.02183139 0.51513338 0.34483126 0.42128013 0.1002874  0.78282057\n",
            " 0.94240425 0.02226882 0.60137276 0.76384407 0.28480759 0.78755558\n",
            " 0.63235505 0.92916263 0.98100481 0.04234611 0.44493776 0.54698779\n",
            " 0.14674323 0.33628583]\n",
            "angle with constraint is: [ 17.13659844  -2.68052539  22.64875808   7.53972949 -19.20505673\n",
            "  19.25464941  -0.53674046 -17.9180516  -17.36549331   9.37669676\n",
            " -22.63137466 -10.67031175 -18.01062048  -2.94612852  -4.2823114\n",
            "   1.09382173 -11.01818354 -23.39782053   5.71930533  -6.31409986\n",
            "   7.56674994 -19.56665146 -24.31113224 -12.58528761  -2.17263385\n",
            "  -5.29640129  15.51512776  -6.10811779   1.52205898   4.67577962\n",
            " -23.90843042   0.75666884  -7.75843703  -3.93599362 -19.98563008\n",
            "  14.14102828  22.12021254 -23.88655897   5.06863814  13.19220336\n",
            " -10.75962057  14.37777924   6.61775254  21.45813161  24.05024057\n",
            " -22.8826943   -2.75311195   2.34938938 -17.66283834  -8.18570848]\n",
            "shape of sample before is: (50, 28, 28)\n",
            "len(sample.shape) 3\n",
            "angle is: [0.98764745 0.01623046 0.45250793 0.84265462 0.32390126 0.4797985\n",
            " 0.97804575 0.47487684 0.13092131 0.05172149 0.94541657 0.26580941\n",
            " 0.50406391 0.09070177 0.42365512 0.93010552 0.50241299 0.97113515\n",
            " 0.25883564 0.50454524 0.85953079 0.44825235 0.27948737 0.85547536\n",
            " 0.38988947 0.53072329 0.97652707 0.18648329 0.30140064 0.0310696\n",
            " 0.39183771 0.20018343 0.68003494 0.18132146 0.67481275 0.26347543\n",
            " 0.35521783 0.34886065 0.71675175 0.46650926 0.3612989  0.85262272\n",
            " 0.57195063 0.21383082 0.90009128 0.3426503  0.03897938 0.49460022\n",
            " 0.12393805 0.23846644]\n",
            "angle with constraint is: [ 24.38237239 -24.18847718  -2.37460342  17.13273109  -8.80493686\n",
            "  -1.01007486  23.90228729  -1.25615818 -18.45393439 -22.41392542\n",
            "  22.27082862 -11.70952934   0.20319533 -20.4649117   -3.81724397\n",
            "  21.50527596   0.12064968  23.55675759 -12.05821814   0.22726199\n",
            "  17.97653959  -2.58738227 -11.02563132  17.77376817  -5.50552656\n",
            "   1.53616455  23.82635332 -15.67583526  -9.92996816 -23.44652\n",
            "  -5.4081145  -14.99082847   9.00174677 -15.93392706   8.74063762\n",
            " -11.82622859  -7.23910829  -7.5569674   10.83758751  -1.67453684\n",
            "  -6.93505506  17.63113595   3.59753128 -14.30845894  20.00456391\n",
            "  -7.8674852  -23.05103112  -0.2699888  -18.80309728 -13.07667781]\n",
            "shape of sample before is: (50, 28, 28)\n",
            "len(sample.shape) 3\n",
            "angle is: [0.74711087 0.13075181 0.80694422 0.93690729 0.6065321  0.71035919\n",
            " 0.71358661 0.99280796 0.34153826 0.16285655 0.51916723 0.53324981\n",
            " 0.17791249 0.61310942 0.01412473 0.9276684  0.26457428 0.03956021\n",
            " 0.10824944 0.24024895 0.27390617 0.03281    0.27935481 0.19294174\n",
            " 0.37862093 0.38516774 0.33900774 0.32792388 0.08973128 0.02520495\n",
            " 0.2021143  0.75664943 0.99080977 0.92852618 0.50421936 0.53182386\n",
            " 0.31458157 0.77393944 0.76475669 0.84427236 0.89550458 0.43434925\n",
            " 0.76687557 0.80639873 0.30845962 0.92924224 0.0943415  0.99426918\n",
            " 0.77009072 0.09327091]\n",
            "angle with constraint is: [ 12.35554363 -18.46240933  15.34721122  21.84536441   5.32660502\n",
            "  10.5179596   10.6793305   24.64039786  -7.92308689 -16.85717244\n",
            "   0.95836175   1.66249049 -16.10437559   5.65547095 -24.29376333\n",
            "  21.38342012 -11.77128611 -23.02198958 -19.58752793 -12.98755259\n",
            " -11.30469157 -23.35950003 -11.03225939 -15.35291318  -6.06895363\n",
            "  -5.74161313  -8.04961297  -8.60380582 -20.51343611 -23.73975264\n",
            " -14.89428499  12.83247137  24.54048828  21.42630875   0.21096778\n",
            "   1.59119279  -9.27092155  13.69697193  13.2378344   17.21361788\n",
            "  19.77522886  -3.28253759  13.34377841  15.31993644  -9.57701888\n",
            "  21.4621122  -20.28292487  24.71345896  13.50453591 -20.33645473]\n",
            "shape of sample before is: (50, 28, 28)\n",
            "len(sample.shape) 3\n",
            "angle is: [0.65622965 0.03417941 0.77018695 0.79922292 0.60241025 0.85686039\n",
            " 0.09788328 0.27592384 0.41417752 0.04245795 0.44821609 0.26521346\n",
            " 0.39273501 0.42510263 0.87941173 0.27034097 0.89374313 0.42597096\n",
            " 0.32780772 0.50251205 0.41774329 0.25737231 0.50267932 0.15180173\n",
            " 0.35192994 0.56579022 0.41340824 0.82391236 0.25672176 0.96977158\n",
            " 0.78472202 0.96759303 0.83813655 0.14210393 0.52646009 0.16997852\n",
            " 0.81822735 0.58416215 0.26344931 0.92959897 0.11518605 0.5638624\n",
            " 0.72104055 0.05884854 0.59785603 0.81590122 0.06752731 0.51224297\n",
            " 0.25855718 0.66292445]\n",
            "angle with constraint is: [  7.81148241 -23.29102945  13.50934747  14.96114608   5.12051265\n",
            "  17.8430196  -20.10583599 -11.2038079   -4.29112392 -22.87710236\n",
            "  -2.58919562 -11.73932719  -5.36324939  -3.7448684   18.97058667\n",
            " -11.48295147  19.68715644  -3.70145176  -8.60961397   0.12560247\n",
            "  -4.11283568 -12.13138435   0.13396624 -17.40991335  -7.40350285\n",
            "   3.28951097  -4.32958778  16.19561805 -12.16391192  23.48857894\n",
            "  14.23610104  23.3796513   16.90682774 -17.89480371   1.32300453\n",
            " -16.50107394  15.91136763   4.20810746 -11.82753428  21.4799486\n",
            " -19.24069733   3.19312017  11.05202773 -22.05757313   4.89280166\n",
            "  15.79506077 -21.62363428   0.61214856 -12.07214109   8.14622258]\n",
            "shape of sample before is: (50, 28, 28)\n",
            "len(sample.shape) 3\n",
            "angle is: [0.11867737 0.93705143 0.89472858 0.18597442 0.32326588 0.58763497\n",
            " 0.71806234 0.44265602 0.15629132 0.10415149 0.99976534 0.45535212\n",
            " 0.87253175 0.482376   0.92235764 0.08775938 0.11401919 0.92963219\n",
            " 0.94749305 0.31471745 0.35516489 0.45245023 0.41616168 0.19004522\n",
            " 0.89837538 0.2533076  0.70527241 0.06715568 0.03875133 0.65373047\n",
            " 0.33901586 0.65545939 0.0940212  0.94985138 0.74851447 0.87626723\n",
            " 0.13647055 0.32016097 0.36834416 0.53717265 0.29686849 0.06063074\n",
            " 0.36887838 0.25454931 0.38592129 0.19695954 0.26189637 0.62695234\n",
            " 0.38815383 0.34538339]\n",
            "angle with constraint is: [-19.06613165  21.85257153  19.73642909 -15.70127901  -8.83670578\n",
            "   4.38174873  10.90311683  -2.86719924 -17.1854339  -19.79242531\n",
            "  24.98826685  -2.23239393  18.62658746  -0.88119977  21.11788193\n",
            " -20.61203086 -19.29904043  21.48160939  22.37465225  -9.26412763\n",
            "  -7.24175565  -2.37748826  -4.191916   -15.4977392   19.9187692\n",
            " -12.33461996  10.26362047 -21.64221611 -23.06243342   7.68652363\n",
            "  -8.04920712   7.77296964 -20.29893989  22.492569    12.42572334\n",
            "  18.81336165 -18.1764723   -8.99195156  -6.58279179   1.85863242\n",
            " -10.15657572 -21.96846289  -6.55608096 -12.27253427  -5.70393543\n",
            " -15.15202287 -11.90518127   6.34761702  -5.59230827  -7.73083034]\n",
            "Accuracy after rotation augmentation constrained by  50  is  0.6683\n",
            "shape of sample before is: (50, 28, 28)\n",
            "len(sample.shape) 3\n",
            "angle is: [0.53390563 0.77186054 0.37886796 0.58751949 0.96620263 0.52198011\n",
            " 0.90979758 0.79367262 0.05871868 0.42909887 0.69831841 0.98671191\n",
            " 0.45837629 0.09278545 0.56200917 0.12656379 0.75151956 0.507677\n",
            " 0.72343137 0.86936183 0.62894802 0.61243933 0.7545703  0.842455\n",
            " 0.86905379 0.0364302  0.5561903  0.21626931 0.86034589 0.64839769\n",
            " 0.42022248 0.18810423 0.33902363 0.70377769 0.20435955 0.09358295\n",
            " 0.88802876 0.76421035 0.19979493 0.29231154 0.97207018 0.70818449\n",
            " 0.610522   0.30762849 0.29912514 0.03952362 0.72848187 0.04317523\n",
            " 0.00485734 0.72949509]\n",
            "angle with constraint is: [  2.03433796  16.31163245  -7.26792262   5.25116955  27.97215752\n",
            "   1.31880685  24.58785459  17.62035746 -26.4768791   -4.25406771\n",
            "  11.89910447  29.20271475  -2.49742253 -24.43287275   3.72055048\n",
            " -22.40617247  15.09117362   0.46061985  13.4058821   22.16170961\n",
            "   7.73688103   6.74635976  15.27421773  20.54730009  22.14322718\n",
            " -27.81418826   3.37141781 -17.02384141  21.62075345   8.90386111\n",
            "  -4.78665126 -18.71374631  -9.65858244  12.22666167 -17.73842729\n",
            " -24.38502328  23.28172549  15.85262097 -18.01230416 -12.46130739\n",
            "  28.32421063  12.49106921   6.63132025 -11.54229087 -12.05249135\n",
            " -27.62858288  13.70891201 -27.4094865  -29.70855973  13.76970527]\n",
            "shape of sample before is: (50, 28, 28)\n",
            "len(sample.shape) 3\n",
            "angle is: [0.94887376 0.75650305 0.47164019 0.48604525 0.43613642 0.32464367\n",
            " 0.52171421 0.43115096 0.59816788 0.89812008 0.99500942 0.07874329\n",
            " 0.38468347 0.1807062  0.35212047 0.28747302 0.17453713 0.76407605\n",
            " 0.49628874 0.91924558 0.03259244 0.06697801 0.40327358 0.08027732\n",
            " 0.2627296  0.98602974 0.20895961 0.19811774 0.57364067 0.49799829\n",
            " 0.5804383  0.37673528 0.82676236 0.13858055 0.42839265 0.68976185\n",
            " 0.86823644 0.36957161 0.5677456  0.06913995 0.17031909 0.06913816\n",
            " 0.72788089 0.28805997 0.72374529 0.06639828 0.8625478  0.8355302\n",
            " 0.08892874 0.02375651]\n",
            "angle with constraint is: [ 26.93242543  15.39018286  -1.70158856  -0.83728503  -3.83181464\n",
            " -10.52137997   1.30285285  -4.13094257   5.8900728   23.88720483\n",
            "  29.70056504 -25.27540261  -6.91899164 -19.15762825  -8.87277156\n",
            " -12.75161889 -19.5277721   15.84456321  -0.22267543  25.15473493\n",
            " -28.04445341 -25.98131921  -5.80358502 -25.18336078 -14.23622422\n",
            "  29.16178458 -17.46242355 -18.11293552   4.41844013  -0.12010255\n",
            "   4.82629783  -7.39588331  19.60574159 -21.68516691  -4.29644125\n",
            "  11.38571091  22.09418642  -7.82570362   4.06473595 -25.8516033\n",
            " -19.78085471 -25.85171025  13.67285352 -12.71640188  13.42471741\n",
            " -26.01610326  21.75286802  20.13181189 -24.66427542 -28.57460961]\n",
            "shape of sample before is: (50, 28, 28)\n",
            "len(sample.shape) 3\n",
            "angle is: [0.05628881 0.85363017 0.23470349 0.54827332 0.4262442  0.79552553\n",
            " 0.4888983  0.50066084 0.98909194 0.15012956 0.83070394 0.05174975\n",
            " 0.47764877 0.88633482 0.66521397 0.68521462 0.26331728 0.41857479\n",
            " 0.36658106 0.52144321 0.46222793 0.32689835 0.30548061 0.25085289\n",
            " 0.36504725 0.14994148 0.8721043  0.60211939 0.13378643 0.69385933\n",
            " 0.84766647 0.23753567 0.15060059 0.00861726 0.04725034 0.76225135\n",
            " 0.98718633 0.04488032 0.74807096 0.07186217 0.59213282 0.75607528\n",
            " 0.3592044  0.01093472 0.59518935 0.99124463 0.25761742 0.18949128\n",
            " 0.12392589 0.55525562]\n",
            "angle with constraint is: [-26.62267122  21.21781039 -15.91779066   2.89639907  -4.42534781\n",
            "  17.73153157  -0.66610191   0.03965044  29.34551637 -20.9922266\n",
            "  19.84223632 -26.89501526  -1.34107383  23.18008944   9.91283794\n",
            "  11.11287716 -14.20096306  -4.88551252  -8.00513619   1.28659261\n",
            "  -2.26632419 -10.38609889 -11.67116326 -14.9488265   -8.09716519\n",
            " -21.00351132  22.32625812   6.12716351 -21.97281446  11.63156005\n",
            "  20.85998808 -15.74785968 -20.96396434 -29.48296457 -27.16497967\n",
            "  15.7350809   29.23117992 -27.30718065  14.88425754 -25.68827005\n",
            "   5.52796949  15.36451695  -8.44773616 -29.34391673   5.71136113\n",
            "  29.47467769 -14.54295463 -18.63052337 -22.56444643   3.31533719]\n",
            "shape of sample before is: (50, 28, 28)\n",
            "len(sample.shape) 3\n",
            "angle is: [0.5964451  0.79227084 0.75307327 0.89254149 0.8057727  0.24726708\n",
            " 0.5558774  0.29741196 0.32978538 0.93194437 0.68189591 0.97459041\n",
            " 0.41691254 0.53743757 0.48711542 0.10728706 0.23670199 0.52763636\n",
            " 0.06737431 0.93146193 0.12384368 0.19798075 0.76532122 0.09693454\n",
            " 0.9002781  0.72570097 0.06862086 0.69184706 0.63162854 0.75734943\n",
            " 0.82819785 0.71835056 0.5861763  0.32246332 0.69727366 0.95697158\n",
            " 0.58752178 0.66434487 0.43712804 0.75612081 0.99766739 0.16038932\n",
            " 0.20240528 0.53943776 0.4813754  0.57156978 0.04907405 0.40427646\n",
            " 0.58297826 0.58519135]\n",
            "angle with constraint is: [  5.78670596  17.53625023  15.18439642  23.55248969  18.3463619\n",
            " -15.16397502   3.35264429 -12.15528245 -10.21287723  25.91666215\n",
            "  10.9137543   28.4754248   -4.9852478    2.2462544   -0.77307481\n",
            " -23.56277655 -15.79788033   1.65818164 -25.95754169  25.88771576\n",
            " -22.56937908 -18.12115521  15.91927344 -24.18392749  24.01668598\n",
            "  13.54205824 -25.88274857  11.51082368   7.89771253  15.44096596\n",
            "  19.69187115  13.10103379   5.17057772 -10.65220089  11.83641971\n",
            "  27.41829508   5.25130683   9.86069211  -3.77231747  15.36724858\n",
            "  29.86004354 -20.37664056 -17.85568323   2.36626552  -1.11747616\n",
            "   4.29418707 -27.05555714  -5.74341262   4.97869572   5.11148108]\n",
            "shape of sample before is: (50, 28, 28)\n",
            "len(sample.shape) 3\n",
            "angle is: [0.65733396 0.72021603 0.6415472  0.79024316 0.62476063 0.53750766\n",
            " 0.60619643 0.10119337 0.27315654 0.52739978 0.87298722 0.67905156\n",
            " 0.09040808 0.59227495 0.22173799 0.73401656 0.82744085 0.59345627\n",
            " 0.59136261 0.33859144 0.44625002 0.86410835 0.72332033 0.51975366\n",
            " 0.36823239 0.05037974 0.1430074  0.19302519 0.37338354 0.94414365\n",
            " 0.50515339 0.23484016 0.10575014 0.33830552 0.81573064 0.38334279\n",
            " 0.77250581 0.80270498 0.11082077 0.60865975 0.95909606 0.40213807\n",
            " 0.05094409 0.92330269 0.88366628 0.52214145 0.55225312 0.2117411\n",
            " 0.81945076 0.49860004]\n",
            "angle with constraint is: [  9.44003771  13.21296174   8.4928322   17.41458932   7.48563808\n",
            "   2.25045975   6.37178573 -23.92839799 -13.61060756   1.64398684\n",
            "  22.37923292  10.74309338 -24.57551529   5.53649703 -16.69572074\n",
            "  14.04099359  19.64645115   5.60737636   5.48175659  -9.68451341\n",
            "  -3.22499873  21.84650123  13.39921986   1.18521958  -7.90605683\n",
            " -26.9772157  -21.41955592 -18.41848863  -7.5969874   26.64861882\n",
            "   0.30920369 -15.9095902  -23.65499175  -9.70166852  18.94383813\n",
            "  -6.9994324   16.35034836  18.16229857 -23.35075382   6.51958516\n",
            "  27.5457638   -5.87171551 -26.94335466  25.39816142  23.01997689\n",
            "   1.32848683   3.13518722 -17.29553383  19.16704533  -0.0839977 ]\n",
            "Accuracy after rotation augmentation constrained by  60  is  0.662\n",
            "shape of sample before is: (50, 28, 28)\n",
            "len(sample.shape) 3\n",
            "angle is: [0.0338778  0.68301496 0.95049627 0.82915049 0.27719814 0.05332508\n",
            " 0.94035141 0.93706272 0.53241532 0.64231741 0.46260006 0.41976537\n",
            " 0.11944844 0.0967529  0.23273215 0.83664075 0.1458323  0.22669865\n",
            " 0.54861406 0.21513122 0.16320668 0.56331624 0.36809327 0.62615929\n",
            " 0.91220534 0.15099313 0.91343366 0.90248997 0.82908758 0.63128592\n",
            " 0.62014666 0.63921266 0.69049555 0.0164822  0.95809258 0.58560376\n",
            " 0.78146584 0.37728184 0.01239721 0.50973466 0.50719012 0.43698929\n",
            " 0.33971705 0.24982609 0.52754487 0.37527814 0.96993188 0.17292731\n",
            " 0.31966557 0.29396047]\n",
            "angle with constraint is: [-32.62855434  12.81104695  31.53473889  23.04053432 -15.59613019\n",
            " -31.26724405  30.82459888  30.59439074   2.26907238   9.96221882\n",
            "  -2.61799575  -5.6164243  -26.63860948 -28.22729711 -18.70874973\n",
            "  23.56485225 -24.79173895 -19.13109437   3.40298415 -19.94081473\n",
            " -23.57553207   4.43213692  -9.23347103   8.83115001  28.85437383\n",
            " -24.4304808   28.94035619  28.17429772  23.03613083   9.19001421\n",
            "   8.41026602   9.7448862   13.33468859 -33.84624596  32.06648054\n",
            "   5.9922633   19.70260876  -8.59027127 -34.13219503   0.68142619\n",
            "   0.50330835  -4.41074982 -11.21980621 -17.51217385   1.92814121\n",
            "  -8.73053022  32.89523181 -22.89508846 -12.62341027 -14.42276704]\n",
            "shape of sample before is: (50, 28, 28)\n",
            "len(sample.shape) 3\n",
            "angle is: [0.54330918 0.49928026 0.64374047 0.95000177 0.28522109 0.69277157\n",
            " 0.0250402  0.26238847 0.46371973 0.03099479 0.61766946 0.67831061\n",
            " 0.74673171 0.5165745  0.60394466 0.39606525 0.04125303 0.09995186\n",
            " 0.65499592 0.9955553  0.01580324 0.5575835  0.75100875 0.82677483\n",
            " 0.5452049  0.61991598 0.69672495 0.85896625 0.12228954 0.9261822\n",
            " 0.0260174  0.83619975 0.07674043 0.19462821 0.00389415 0.44525671\n",
            " 0.33435923 0.16599291 0.45109016 0.40237088 0.76766103 0.89313031\n",
            " 0.65256725 0.12441039 0.29539079 0.9133183  0.08873449 0.40685584\n",
            " 0.94250462 0.95066484]\n",
            "angle with constraint is: [  3.03164234  -0.05038201  10.06183258  31.50012394 -15.03452402\n",
            "  13.49400985 -33.24718579 -16.63280691  -2.53961904 -32.83036481\n",
            "   8.23686224  12.48174259  17.27122004   1.16021534   7.27612655\n",
            "  -7.27543241 -32.11228772 -28.0033701   10.84971469  34.68887097\n",
            " -33.89377326   4.03084478  17.5706127   22.87423796   3.16434309\n",
            "   8.39411861  13.77074617  25.12763748 -26.4397324   29.83275374\n",
            " -33.17878175  23.53398257 -29.62817014 -21.37602519 -34.72740975\n",
            "  -3.83203061 -11.59485413 -23.3804962   -3.42368874  -6.83403818\n",
            "  18.73627229  27.51912142  10.67970762 -26.29127279 -14.32264437\n",
            "  28.93228078 -28.78858549  -6.52009124  30.97532335  31.5465389 ]\n",
            "shape of sample before is: (50, 28, 28)\n",
            "len(sample.shape) 3\n",
            "angle is: [0.41120318 0.66739689 0.4567456  0.75346054 0.03158133 0.14415715\n",
            " 0.6141988  0.23255226 0.6660523  0.35122293 0.88664556 0.81925939\n",
            " 0.4928378  0.77289509 0.27113789 0.49425978 0.19748205 0.86088617\n",
            " 0.82306762 0.90214967 0.87747698 0.95959626 0.22833623 0.93182429\n",
            " 0.57121319 0.42249508 0.5603739  0.34260236 0.28855301 0.24131434\n",
            " 0.08242799 0.4965649  0.88776168 0.63015197 0.52097563 0.42859292\n",
            " 0.46440163 0.20927735 0.82293588 0.19838296 0.71662276 0.75998501\n",
            " 0.57486904 0.86292637 0.29105035 0.88161722 0.72941046 0.79874983\n",
            " 0.66457971 0.84634302]\n",
            "angle with constraint is: [ -6.21577761  11.71778217  -3.02780812  17.74223776 -32.78930685\n",
            " -24.90899958   7.99391625 -18.72134163  11.62366095 -10.41439508\n",
            "  27.06518907  22.34815699  -0.501354    19.1026561  -16.02034796\n",
            "  -0.40181562 -21.17625637  25.2620318   22.61473316  28.15047679\n",
            "  26.42338869  32.17173834 -19.01646379  30.22770036   4.98492339\n",
            "  -5.42534413   4.22617272 -11.01783503 -14.80128951 -18.10799634\n",
            " -29.23004074  -0.2404572   27.1433173    9.11063785   1.46829429\n",
            "  -4.99849572  -2.49188616 -20.35058567  22.6055114  -21.11319257\n",
            "  15.16359297  18.1989508    5.24083294  25.40484625 -14.62647533\n",
            "  26.71320549  16.05873217  20.91248794  11.52057967  24.24401119]\n",
            "shape of sample before is: (50, 28, 28)\n",
            "len(sample.shape) 3\n",
            "angle is: [0.99309886 0.42016285 0.81391568 0.74457976 0.45287017 0.926949\n",
            " 0.39442593 0.56546592 0.10594236 0.22577519 0.84069617 0.39655272\n",
            " 0.39408409 0.24598102 0.49161033 0.80581696 0.89516412 0.07011443\n",
            " 0.57482073 0.46727337 0.61428185 0.44727569 0.39864482 0.47188071\n",
            " 0.58199913 0.50098321 0.47214445 0.81783531 0.74564799 0.34137849\n",
            " 0.80057712 0.85365067 0.15349221 0.58268246 0.28531199 0.73917232\n",
            " 0.23878533 0.67140352 0.25512466 0.51114376 0.94864647 0.38130754\n",
            " 0.87573849 0.98694458 0.87485085 0.16586603 0.81965822 0.0321494\n",
            " 0.39330188 0.87073337]\n",
            "angle with constraint is: [ 34.51692039  -5.58860018  21.97409786  17.12058317  -3.2990884\n",
            "  29.88642998  -7.39018493   4.58261414 -27.58403501 -19.19573642\n",
            "  23.84873194  -7.2413094   -7.41411374 -17.78132873  -0.5872766\n",
            "  21.40718729  27.66148824 -30.09198976   5.23745119  -2.29086425\n",
            "   7.99972953  -3.69070192  -7.09486254  -1.96835013   5.73993901\n",
            "   0.06882477  -1.94988843  22.2484717   17.19535939 -11.10350541\n",
            "  21.04039823  24.75554683 -24.25554562   5.78777232 -15.02816045\n",
            "  16.74206253 -18.28502694  11.99824669 -17.14127408   0.78006344\n",
            "  31.40525275  -8.30847231  26.30169402  34.08612068  26.23955942\n",
            " -23.38937792  22.37607537 -32.74954234  -7.46886814  25.95133613]\n",
            "shape of sample before is: (50, 28, 28)\n",
            "len(sample.shape) 3\n",
            "angle is: [0.68875221 0.53274043 0.38786403 0.81229695 0.7095584  0.46840532\n",
            " 0.89248434 0.22994802 0.17039151 0.64280376 0.97199434 0.24725657\n",
            " 0.24967038 0.13949885 0.86056356 0.22639754 0.50317853 0.99087248\n",
            " 0.0121409  0.55648609 0.51228904 0.80744738 0.35528154 0.41034136\n",
            " 0.16793798 0.74081523 0.78470891 0.13666332 0.39345707 0.892905\n",
            " 0.00270727 0.29875907 0.55504229 0.33409386 0.27204519 0.46003748\n",
            " 0.18152311 0.52962524 0.70669592 0.57529495 0.09310933 0.84440861\n",
            " 0.17497784 0.764812   0.36056511 0.78276135 0.2062729  0.1866621\n",
            " 0.49702585 0.03293601]\n",
            "angle with constraint is: [ 13.21265489   2.29182991  -7.84951824  21.86078625  14.66908828\n",
            "  -2.21162763  27.4739036  -18.90363875 -23.07259436   9.9962635\n",
            "  33.03960399 -17.69203987 -17.52307347 -25.23508064  25.23944887\n",
            " -19.15217217   0.22249687  34.36107346 -34.15013694   3.95402634\n",
            "   0.86023299  21.52131635 -10.13029223  -6.27610488 -23.24434136\n",
            "  16.85706621  19.92962364 -25.43356755  -7.45800482  27.50334968\n",
            " -34.81049084 -14.08686506   3.85295995 -11.61342982 -15.95683676\n",
            "  -2.79737606 -22.29338243   2.07376687  14.46871449   5.27064668\n",
            " -28.48234684  24.10860299 -22.75155138  18.53684004  -9.76044225\n",
            "  19.79329436 -20.56089676 -21.93365274  -0.20819076 -32.69447897]\n",
            "Accuracy after rotation augmentation constrained by  70  is  0.6633\n",
            "shape of sample before is: (50, 28, 28)\n",
            "len(sample.shape) 3\n",
            "angle is: [0.22529734 0.72401225 0.83738348 0.08078536 0.88207771 0.7975172\n",
            " 0.8696843  0.69842855 0.67415307 0.52509323 0.65278722 0.91910966\n",
            " 0.100522   0.31576448 0.07245497 0.94480517 0.44526547 0.67534447\n",
            " 0.84112006 0.99100025 0.16178246 0.79951261 0.8874229  0.04887538\n",
            " 0.75409056 0.35472532 0.64859679 0.5140482  0.25974225 0.13522136\n",
            " 0.11694723 0.10332286 0.63779004 0.35141085 0.21663344 0.69188509\n",
            " 0.68684957 0.53916829 0.93495782 0.38541423 0.83586297 0.07513941\n",
            " 0.73983109 0.98844741 0.84659822 0.57966472 0.62676606 0.35328955\n",
            " 0.67948522 0.77039538]\n",
            "angle with constraint is: [-21.9762129   17.92098017  26.99067826 -33.53717088  30.56621676\n",
            "  23.80137632  29.57474366  15.87428437  13.93224538   2.00745867\n",
            "  12.22297796  33.52877317 -31.95823989 -14.73884177 -34.20360211\n",
            "  35.58441376  -4.37876272  14.02755765  27.28960516  39.28001985\n",
            " -27.05740338  23.96100846  30.99383185 -36.08996985  20.32724481\n",
            " -11.6219743   11.88774332   1.12385568 -19.22061983 -29.18229104\n",
            " -30.64422135 -31.73417138  11.02320321 -11.88713189 -22.66932494\n",
            "  15.35080742  14.94796526   3.13346339  34.79662535  -9.16686148\n",
            "  26.8690377  -33.98884737  19.18648752  39.07579311  27.7278573\n",
            "   6.37317754  10.14128515 -11.73683605  14.35881746  21.63163065]\n",
            "shape of sample before is: (50, 28, 28)\n",
            "len(sample.shape) 3\n",
            "angle is: [0.99822848 0.49246292 0.06130407 0.59585795 0.11902415 0.24476504\n",
            " 0.32877991 0.73102987 0.18380812 0.16575295 0.04496424 0.87323994\n",
            " 0.69350542 0.03994647 0.02829231 0.5586743  0.2825344  0.59672635\n",
            " 0.43460418 0.92331256 0.28780901 0.67914537 0.05405431 0.95586053\n",
            " 0.98075747 0.73907463 0.46521247 0.21999344 0.81251634 0.7363541\n",
            " 0.22195404 0.45121529 0.46279894 0.82641055 0.68384468 0.64316754\n",
            " 0.64982742 0.27047008 0.37171126 0.04566229 0.78694114 0.43299822\n",
            " 0.43823836 0.24535626 0.20942728 0.58782193 0.23255302 0.06420885\n",
            " 0.76750742 0.37646943]\n",
            "angle with constraint is: [ 39.85827849  -0.60296664 -35.09567474   7.66863606 -30.478068\n",
            " -20.41879652 -13.6976071   18.48238985 -25.29535009 -26.73976425\n",
            " -36.4028606   29.85919491  15.48043395 -36.80428275 -37.73661555\n",
            "   4.69394372 -17.3972479    7.73810803  -5.23166595  33.86500498\n",
            " -16.9752788   14.33162948 -35.67565507  36.46884274  38.46059743\n",
            "  19.12597032  -2.78300227 -22.40052485  25.00130722  18.90832777\n",
            " -22.24367684  -3.90277647  -2.97608497  26.112844    14.70757475\n",
            "  11.45340348  11.98619381 -18.36239365 -10.26309921 -36.34701717\n",
            "  22.95529086  -5.36014279  -4.94093143 -20.37149881 -23.24581748\n",
            "   7.02575437 -21.39575878 -34.86329187  21.40059328  -9.88244525]\n",
            "shape of sample before is: (50, 28, 28)\n",
            "len(sample.shape) 3\n",
            "angle is: [0.38023558 0.43131828 0.81504482 0.3208369  0.75803621 0.93954484\n",
            " 0.6608682  0.43168108 0.74778972 0.45789737 0.41442727 0.52528316\n",
            " 0.31772233 0.10425022 0.41485201 0.12385688 0.41044147 0.55693372\n",
            " 0.93071118 0.03622233 0.62145841 0.45773519 0.02026113 0.24954818\n",
            " 0.11848525 0.21679415 0.27457024 0.40130634 0.52903939 0.00098999\n",
            " 0.16186936 0.09356639 0.5496734  0.32907487 0.54839774 0.2218233\n",
            " 0.02422935 0.9413669  0.10830812 0.12685875 0.14654683 0.98127652\n",
            " 0.61766024 0.61028995 0.9866982  0.08843877 0.97450089 0.20401315\n",
            " 0.6230715  0.42008357]\n",
            "angle with constraint is: [ -9.58115329  -5.49453748  25.20358587 -14.33304832  20.6428969\n",
            "  35.16358726  12.86945567  -5.46551351  19.82317785  -3.36821042\n",
            "  -6.84581831   2.02265309 -14.58221322 -31.6599827   -6.81183956\n",
            " -30.09144951  -7.16468212   4.5546977   34.4568945  -37.10221352\n",
            "   9.71667252  -3.38118507 -38.37910974 -20.03614592 -30.52117981\n",
            " -22.65646834 -18.03438052  -7.89549317   2.32315148 -39.92080049\n",
            " -27.05045115 -32.51468915   3.97387194 -13.67401037   3.87181888\n",
            " -22.25413583 -38.06165167  35.3093521  -31.3353503  -29.85130016\n",
            " -28.27625388  38.50212192   9.41281921   8.82319614  38.93585612\n",
            " -32.92489846  37.9600714  -23.67894828   9.84572028  -6.39331478]\n",
            "shape of sample before is: (50, 28, 28)\n",
            "len(sample.shape) 3\n",
            "angle is: [0.38395181 0.93124333 0.14922773 0.99706901 0.37912506 0.6487749\n",
            " 0.96790673 0.05760105 0.92286436 0.56781139 0.70439688 0.14918418\n",
            " 0.53338743 0.67351371 0.45624731 0.15498518 0.24411908 0.85439279\n",
            " 0.03447099 0.70886208 0.99939004 0.007483   0.16104568 0.6741443\n",
            " 0.05999083 0.58978998 0.6840001  0.58814635 0.3651847  0.6972823\n",
            " 0.59429443 0.20763717 0.56313554 0.88190722 0.66683329 0.47179151\n",
            " 0.3215841  0.08588621 0.24462713 0.01118675 0.98662592 0.22248225\n",
            " 0.81487594 0.16864488 0.28360115 0.41827732 0.32440566 0.79835081\n",
            " 0.95769341 0.87529448]\n",
            "angle with constraint is: [ -9.28385492  34.49946628 -28.06178172  39.76552089  -9.66999511\n",
            "  11.90199231  37.43253852 -35.39191597  33.82914903   5.42491083\n",
            "  16.35175032 -28.06526529   2.67099447  13.88109718  -3.50021541\n",
            " -27.60118575 -20.47047399  28.35142328 -37.24232057  16.70896628\n",
            "  39.95120292 -39.40136031 -27.11634537  13.93154407 -35.20073323\n",
            "   7.18319871  14.72000828   7.05170785 -10.78522376  15.78258368\n",
            "   7.54355424 -23.38902623   5.05084349  30.55257737  13.34666286\n",
            "  -2.25667941 -14.27327177 -33.12910324 -20.42982938 -39.10505975\n",
            "  38.9300734  -22.20141983  25.19007541 -26.50840946 -17.31190803\n",
            "  -6.53781446 -14.04754687  23.86806502  36.61547264  30.02355869]\n",
            "shape of sample before is: (50, 28, 28)\n",
            "len(sample.shape) 3\n",
            "angle is: [0.15357787 0.77668868 0.14794691 0.91338111 0.51787858 0.33638109\n",
            " 0.1570255  0.01180909 0.24794699 0.91402006 0.79726219 0.96979371\n",
            " 0.10076152 0.59217874 0.25715047 0.54294171 0.32045489 0.28346555\n",
            " 0.5738453  0.18331816 0.46913344 0.65081227 0.12818207 0.93059427\n",
            " 0.5057247  0.81952797 0.65390543 0.71000094 0.71613094 0.8750999\n",
            " 0.61360544 0.27821715 0.09950964 0.60625062 0.0663528  0.24129345\n",
            " 0.06070718 0.54888759 0.16033812 0.61040732 0.79086513 0.82188072\n",
            " 0.30954351 0.54895453 0.56301076 0.47288718 0.65511389 0.21008712\n",
            " 0.97924324 0.09807983]\n",
            "angle with constraint is: [-27.71377064  22.13509411 -28.16424694  33.07048852   1.43028605\n",
            " -13.08951296 -27.43796021 -39.05527295 -20.16424067  33.12160506\n",
            "  23.78097538  37.58349662 -31.93907831   7.37429948 -19.42796208\n",
            "   3.43533646 -14.36360915 -17.32275598   5.90762416 -25.33454705\n",
            "  -2.46932504  12.0649812  -29.74543415  34.44754167   0.45797596\n",
            "  25.56223775  12.31243445  16.8000753   17.29047528  30.00799176\n",
            "   9.0884348  -17.74262786 -32.03922857   8.50004956 -34.6917757\n",
            " -20.69652386 -35.14342523   3.91100712 -27.17295      8.83258555\n",
            "  23.26921047  25.75045766 -15.23651935   3.91636262   5.04086081\n",
            "  -2.16902543  12.40911131 -23.19303009  38.33945917 -32.15361383]\n",
            "Accuracy after rotation augmentation constrained by  80  is  0.657\n",
            "shape of sample before is: (50, 28, 28)\n",
            "len(sample.shape) 3\n",
            "angle is: [0.82922114 0.59409599 0.24485475 0.745675   0.0844809  0.77441783\n",
            " 0.58998522 0.11075032 0.07950556 0.75083633 0.29293591 0.88930185\n",
            " 0.76207302 0.69819024 0.27860605 0.70894452 0.94814768 0.09155983\n",
            " 0.32616264 0.23467227 0.39325013 0.74233265 0.47424258 0.57073061\n",
            " 0.31415489 0.14128927 0.26693365 0.8596803  0.60241696 0.37798867\n",
            " 0.78990598 0.06445743 0.25389109 0.23010315 0.98536456 0.70609858\n",
            " 0.61778594 0.00498497 0.18431    0.63554129 0.37971933 0.92428038\n",
            " 0.76472422 0.44738407 0.74951498 0.97540432 0.46098082 0.64252589\n",
            " 0.91866462 0.24867466]\n",
            "angle with constraint is: [ 29.62990271   8.46863883 -22.96307275  22.11075006 -37.39671939\n",
            "  24.6976051    8.09867    -35.03247134 -37.84449932  22.57527001\n",
            " -18.63576841  35.03716657  23.58657189  17.83712202 -19.92545526\n",
            "  18.80500671  40.33329161 -36.75961491 -15.64536222 -23.87949611\n",
            "  -9.6074879   21.80993894  -2.31816767   6.36575455 -16.72606007\n",
            " -32.28396596 -20.9759716   32.37122711   9.21752659 -10.98101941\n",
            "  26.09153836 -39.19883108 -22.14980209 -24.29071613  43.6828106\n",
            "  18.54887242  10.60073427 -44.55135312 -28.41209981  12.19871637\n",
            " -10.82526062  38.18523453  23.82517972  -4.73543345  22.45634798\n",
            "  42.78638914  -3.51172578  12.82732991  37.67981536 -22.61928042]\n",
            "shape of sample before is: (50, 28, 28)\n",
            "len(sample.shape) 3\n",
            "angle is: [0.88655791 0.09754471 0.64844817 0.78283816 0.61460622 0.4955348\n",
            " 0.6173471  0.15166371 0.21557071 0.26989934 0.59777934 0.44190107\n",
            " 0.24447584 0.88280933 0.37392184 0.44603172 0.40970108 0.18194296\n",
            " 0.73162702 0.44845826 0.01625711 0.9640137  0.81576361 0.72355935\n",
            " 0.86909187 0.90680725 0.33748971 0.61095868 0.60880781 0.26729967\n",
            " 0.22195225 0.11390725 0.6593142  0.78091899 0.76095298 0.31627538\n",
            " 0.20525985 0.45361418 0.54681346 0.91908713 0.87482315 0.91605833\n",
            " 0.85026239 0.9645812  0.4655     0.0474735  0.08356203 0.39027614\n",
            " 0.25768709 0.16994059]\n",
            "angle with constraint is: [ 34.79021223 -36.22097639  13.36033535  25.45543396  10.31455973\n",
            "  -0.40186763  10.56123899 -31.35026621 -25.59863607 -20.70905904\n",
            "   8.80014066  -5.22890336 -22.99717418  34.45283989 -11.34703437\n",
            "  -4.85714527  -8.12690311 -28.62513403  20.84643139  -4.6387564\n",
            " -43.53686011  41.76123321  28.41872504  20.12034187  33.21826835\n",
            "  36.61265282 -14.62592643   9.98628106   9.79270283 -20.94302981\n",
            " -25.02429737 -34.74834707  14.33827763  25.28270919  23.48576816\n",
            " -16.53521605 -26.52661346  -4.17472394   4.21321142  37.71784152\n",
            "  33.73408388  37.44524982  31.52361466  41.8123084   -3.10500025\n",
            " -40.72738523 -37.47941711  -9.87514724 -21.80816179 -29.70534678]\n",
            "shape of sample before is: (50, 28, 28)\n",
            "len(sample.shape) 3\n",
            "angle is: [0.95320377 0.19541959 0.95937927 0.76083884 0.64094567 0.67601896\n",
            " 0.33147432 0.64642704 0.18669212 0.93770543 0.30179334 0.25518651\n",
            " 0.7111628  0.65644872 0.45129892 0.63244623 0.15949307 0.67332831\n",
            " 0.2706107  0.27283598 0.16217993 0.33237714 0.33125106 0.45417901\n",
            " 0.1904195  0.19300754 0.54173857 0.1288774  0.68889701 0.94394713\n",
            " 0.42679562 0.90110531 0.09831659 0.04295763 0.72136888 0.76102157\n",
            " 0.84305824 0.05681768 0.77690705 0.37653873 0.30333763 0.17302392\n",
            " 0.99601576 0.06366359 0.82700801 0.63949444 0.73508044 0.71171712\n",
            " 0.85843449 0.18379207]\n",
            "angle with constraint is: [ 40.78833971 -27.41223704  41.34413451  23.47549563  12.68511049\n",
            "  15.84170641 -15.16731087  13.17843343 -28.19770935  39.39348893\n",
            " -17.8385994  -22.03321389  19.00465184  14.08038463  -4.38309735\n",
            "  11.92016112 -30.64562354  15.59954767 -20.64503743 -20.4447621\n",
            " -30.40380586 -15.08605785 -15.18740457  -4.12388895 -27.86224458\n",
            " -27.62932175   3.75647145 -33.40103358  17.00073072  39.95524133\n",
            "  -6.58839405  36.09947818 -36.1515068  -41.13381354  19.92319898\n",
            "  23.49194157  30.87524169 -39.88640894  24.92163495 -11.11151405\n",
            " -17.69961306 -29.42784708  44.64141796 -39.27027696  29.43072131\n",
            "  12.55449919  21.15723998  19.05454079  32.25910366 -28.45871371]\n",
            "shape of sample before is: (50, 28, 28)\n",
            "len(sample.shape) 3\n",
            "angle is: [8.24616835e-04 5.98528489e-01 3.53858639e-01 1.23787331e-01\n",
            " 1.86138754e-01 3.31749312e-01 7.02333709e-02 5.69132021e-02\n",
            " 9.16026255e-01 3.12102749e-01 9.82230697e-01 9.64367008e-01\n",
            " 1.42571282e-01 7.14924303e-01 6.00804889e-01 6.90647073e-01\n",
            " 9.61910000e-02 1.88560079e-01 7.66386615e-02 6.04134205e-01\n",
            " 9.86591076e-01 6.71984538e-01 7.10761535e-01 9.84585042e-01\n",
            " 6.78011554e-01 4.01815726e-02 8.67005601e-01 3.64678290e-01\n",
            " 4.36362151e-03 5.07234178e-01 9.37015001e-01 2.57330687e-01\n",
            " 4.91513173e-01 1.73776888e-01 5.76926717e-02 8.05449467e-02\n",
            " 7.27010906e-01 8.64074471e-01 1.43298839e-01 2.88318568e-01\n",
            " 1.95029468e-01 2.68557769e-02 5.53431370e-01 6.99922170e-01\n",
            " 6.47877481e-01 3.88053547e-01 5.55010246e-01 9.40993066e-02\n",
            " 1.54303719e-01 9.31794620e-01]\n",
            "angle with constraint is: [-44.92578448   8.86756401 -13.15272246 -33.8591402  -28.24751213\n",
            " -15.14256188 -38.67899662 -39.87781181  37.44236293 -16.91075256\n",
            "  43.40076277  41.79303075 -32.16858459  19.34318726   9.07244002\n",
            "  17.15823658 -36.34281    -28.02959292 -38.10252047   9.37207847\n",
            "  43.79319683  15.47860839  18.96853815  43.61265374  16.02103988\n",
            " -41.38365846  33.03050408 -12.17895387 -44.60727406   0.65107598\n",
            "  39.33135008 -21.84023815  -0.76381443 -29.3600801  -39.80765955\n",
            " -37.7509548   20.43098154  32.76670237 -32.10310447 -19.0513289\n",
            " -27.44734791 -42.58298008   4.80882329  17.99299531  13.30897328\n",
            " -10.07518074   4.95092213 -36.5310624  -31.11266531  38.86151576]\n",
            "shape of sample before is: (50, 28, 28)\n",
            "len(sample.shape) 3\n",
            "angle is: [0.76150775 0.9227391  0.91668028 0.64939262 0.92823865 0.4167041\n",
            " 0.00361624 0.06257112 0.10948733 0.09535345 0.35170239 0.70127081\n",
            " 0.79064881 0.59021327 0.14643617 0.7479016  0.35480192 0.01299335\n",
            " 0.28058862 0.33060055 0.27424554 0.81187015 0.7599264  0.69555203\n",
            " 0.13900508 0.80783391 0.67717596 0.19483769 0.64809393 0.48351164\n",
            " 0.43935006 0.11212316 0.51830428 0.09993181 0.16425339 0.13254631\n",
            " 0.95410828 0.28486469 0.35520432 0.32208061 0.89825045 0.56296591\n",
            " 0.9191599  0.29992491 0.11483467 0.55621845 0.34553699 0.80190683\n",
            " 0.87942341 0.47257351]\n",
            "angle with constraint is: [ 23.5356973   38.04651862  37.5012256   13.44533554  38.54147833\n",
            "  -7.49663072 -44.67453797 -39.36859957 -35.14614069 -36.41818921\n",
            " -13.34678482  18.11437264  26.15839259   8.11919469 -31.82074429\n",
            "  22.31114419 -13.06782728 -43.83059862 -19.74702415 -15.24595013\n",
            " -20.31790183  28.06831379  23.39337578  17.59968274 -32.48954293\n",
            "  27.70505187  15.94583655 -27.46460822  13.32845373  -1.48395231\n",
            "  -5.45849443 -34.90891529   1.64738483 -36.00613719 -30.21719515\n",
            " -33.07083172  40.86974512 -19.36217786 -13.03161088 -16.01274543\n",
            "  35.84254007   5.66693202  37.7243909  -18.00675848 -34.6648793\n",
            "   5.05966075 -13.90167074  27.17161501  34.1481068   -2.46838402]\n",
            "Accuracy after rotation augmentation constrained by  90  is  0.6602\n"
          ]
        }
      ]
    },
    {
      "cell_type": "code",
      "source": [
        "Accuracy after rotation augmentation constrained by  90  is  0.6467"
      ],
      "metadata": {
        "id": "ZPOH1A3RnqDr",
        "colab": {
          "base_uri": "https://localhost:8080/",
          "height": 130
        },
        "outputId": "18442703-641c-428b-9827-a911e1d4f28b"
      },
      "execution_count": 32,
      "outputs": [
        {
          "output_type": "error",
          "ename": "SyntaxError",
          "evalue": "ignored",
          "traceback": [
            "\u001b[0;36m  File \u001b[0;32m\"<ipython-input-32-4489617fdfc5>\"\u001b[0;36m, line \u001b[0;32m1\u001b[0m\n\u001b[0;31m    Accuracy after rotation augmentation constrained by  90  is  0.6467\u001b[0m\n\u001b[0m             ^\u001b[0m\n\u001b[0;31mSyntaxError\u001b[0m\u001b[0;31m:\u001b[0m invalid syntax\n"
          ]
        }
      ]
    },
    {
      "cell_type": "markdown",
      "source": [
        "Let us see the best value for angle constraint: (Ideally this should be done on validation set, not test set)"
      ],
      "metadata": {
        "id": "8Le-7VJBoP8K"
      }
    },
    {
      "cell_type": "code",
      "source": [
        "fig = plt.figure()\n",
        "ax = fig.add_axes([0.1, 0.1, 0.8, 0.8]) # main axes\n",
        "# plot the variation of accuracy\n",
        "ax.plot(angleconstraints, accuracies)\n",
        "ax.set_xlabel('angle')\n",
        "ax.set_ylabel('accuracy')\n",
        "# plot the maximum accuracy\n",
        "maxind = np.argmax(accuracies)\n",
        "plt.scatter(angleconstraints[maxind], accuracies[maxind], c='red')"
      ],
      "metadata": {
        "colab": {
          "base_uri": "https://localhost:8080/",
          "height": 309
        },
        "id": "xG__xE-FoQOg",
        "outputId": "782e5446-1099-4b25-c8bf-e7185145aa07"
      },
      "execution_count": 33,
      "outputs": [
        {
          "output_type": "execute_result",
          "data": {
            "text/plain": [
              "<matplotlib.collections.PathCollection at 0x7f39b5c72280>"
            ]
          },
          "metadata": {},
          "execution_count": 33
        },
        {
          "output_type": "display_data",
          "data": {
            "text/plain": [
              "<Figure size 432x288 with 1 Axes>"
            ],
            "image/png": "[encoded data removed]"
          },
          "metadata": {
            "needs_background": "light"
          }
        }
      ]
    },
    {
      "cell_type": "markdown",
      "source": [
        "Let us do a grid search to find the best shear constraint."
      ],
      "metadata": {
        "id": "Vfy-LEb-qdUd"
      }
    },
    {
      "cell_type": "code",
      "source": [
        "shearconstraints = [0, 0.2,0.4,0.6,0.8,1.0,1.2,1.4,1.6,1.8,2.0] # the values we want to test\n",
        "accuracies = np.zeros(len(shearconstraints), dtype=np.float) # we will save the values here\n",
        "\n",
        "for ii in range(len(shearconstraints)):\n",
        "  # create the augmented dataset\n",
        "  augdata = train_X # we include the original images also in the augmented dataset\n",
        "  auglabel = train_y\n",
        "  for jj in range(naugmentations):\n",
        "    augdata = np.concatenate((augdata, augShear(train_X, shearconstraints[ii]))) # concatenate the augmented data to the set\n",
        "    auglabel = np.concatenate((auglabel, train_y))  # the labels don't change when we augment\n",
        "\n",
        "  # check the test accuracy\n",
        "  testpred = NN(augdata, auglabel, test_X)\n",
        "  accuracies[ii] = Accuracy(test_y, testpred)\n",
        "  print('Accuracy after shear augmentation constrained by ',shearconstraints[ii], ' is ', accuracies[ii], flush=True)"
      ],
      "metadata": {
        "colab": {
          "base_uri": "https://localhost:8080/"
        },
        "id": "22m9xPrBoSDi",
        "outputId": "989cb715-a92e-4868-d82f-6c685b455a8d"
      },
      "execution_count": 34,
      "outputs": [
        {
          "output_type": "stream",
          "name": "stderr",
          "text": [
            "<ipython-input-34-8a89fef4983d>:2: DeprecationWarning: `np.float` is a deprecated alias for the builtin `float`. To silence this warning, use `float` by itself. Doing this will not modify any behavior and is safe. If you specifically wanted the numpy scalar type, use `np.float64` here.\n",
            "Deprecated in NumPy 1.20; for more details and guidance: https://numpy.org/devdocs/release/1.20.0-notes.html#deprecations\n",
            "  accuracies = np.zeros(len(shearconstraints), dtype=np.float) # we will save the values here\n"
          ]
        },
        {
          "output_type": "stream",
          "name": "stdout",
          "text": [
            "Accuracy after shear augmentation constrained by  0  is  0.6472\n",
            "Accuracy after shear augmentation constrained by  0.2  is  0.6252\n",
            "Accuracy after shear augmentation constrained by  0.4  is  0.6234\n",
            "Accuracy after shear augmentation constrained by  0.6  is  0.6356\n",
            "Accuracy after shear augmentation constrained by  0.8  is  0.646\n",
            "Accuracy after shear augmentation constrained by  1.0  is  0.643\n",
            "Accuracy after shear augmentation constrained by  1.2  is  0.6383\n",
            "Accuracy after shear augmentation constrained by  1.4  is  0.6462\n",
            "Accuracy after shear augmentation constrained by  1.6  is  0.6288\n",
            "Accuracy after shear augmentation constrained by  1.8  is  0.617\n",
            "Accuracy after shear augmentation constrained by  2.0  is  0.5824\n"
          ]
        }
      ]
    },
    {
      "cell_type": "code",
      "source": [
        "fig = plt.figure()\n",
        "ax = fig.add_axes([0.1, 0.1, 0.8, 0.8]) # main axes\n",
        "# plot the variation of accuracy\n",
        "ax.plot(shearconstraints, accuracies)\n",
        "ax.set_xlabel('angle')\n",
        "ax.set_ylabel('accuracy')\n",
        "# plot the maximum accuracy\n",
        "maxind = np.argmax(accuracies)\n",
        "plt.scatter(shearconstraints[maxind], accuracies[maxind], c='red')"
      ],
      "metadata": {
        "colab": {
          "base_uri": "https://localhost:8080/",
          "height": 312
        },
        "id": "kBBum9xPqglf",
        "outputId": "8d00c0ba-6efa-4621-b265-838f9a681a45"
      },
      "execution_count": 35,
      "outputs": [
        {
          "output_type": "execute_result",
          "data": {
            "text/plain": [
              "<matplotlib.collections.PathCollection at 0x7f39b57c69d0>"
            ]
          },
          "metadata": {},
          "execution_count": 35
        },
        {
          "output_type": "display_data",
          "data": {
            "text/plain": [
              "<Figure size 432x288 with 1 Axes>"
            ],
            "image/png": "[encoded data removed]"
          },
          "metadata": {
            "needs_background": "light"
          }
        }
      ]
    },
    {
      "cell_type": "markdown",
      "source": [
        "We can do multiple augmentations at the same time. Here is a function to do both shear and rotation to the sample. In this case, we will have two hyperparameters."
      ],
      "metadata": {
        "id": "88Bu9veestqd"
      }
    },
    {
      "cell_type": "code",
      "source": [
        "def augRotateShear(sample, angleconstraint, shearconstraint):\n",
        "  if len(sample.shape)==2:\n",
        "    sample = np.expand_dims(sample, 0)  # make sure the sample is 3 dimensional\n",
        "  amt = rng.random(len(sample)) # generate random numbers for shear\n",
        "  amt = (amt-0.5)*shearconstraint # make the random shear constrained\n",
        "  angle = rng.random(len(sample)) # generate random numbers for angles\n",
        "  angle = (angle-0.5)*angleconstraint # make the random angle constrained\n",
        "  nsample = sample.copy() # preallocate the augmented array to make it faster\n",
        "  for ii in range(len(sample)):\n",
        "    nsample[ii] = rotate(shear(sample[ii], amt[ii]), angle[ii]) # first apply shear, then rotate\n",
        "  return np.squeeze(nsample) # take care if the input had only one sample."
      ],
      "metadata": {
        "id": "T9CflCiur-lr"
      },
      "execution_count": 36,
      "outputs": []
    },
    {
      "cell_type": "markdown",
      "source": [
        "Since we have two hyperparameters, we have to do the grid search on a 2 dimensional matrix. We can use our previous experience to inform where to search for the best hyperparameters. "
      ],
      "metadata": {
        "id": "-EdNnol9s4NZ"
      }
    },
    {
      "cell_type": "code",
      "source": [
        "shearconstraints = [0, 0.2,0.4,0.6,0.8,1.0,1.2,1.4,1.6] # the values we want to test\n",
        "angleconstraints = [0,10,20,30,40,50,60] # the values we want to test\n",
        "hyp = cartesian((shearconstraints, angleconstraints)) # cartesian product of both\n",
        "\n",
        "accuracies = np.zeros(len(hyp), dtype=np.float) # we will save the values here\n",
        "\n",
        "for ii in range(len(hyp)):\n",
        "  # create the augmented dataset\n",
        "  augdata = train_X # we include the original images also in the augmented dataset\n",
        "  auglabel = train_y\n",
        "  for jj in range(naugmentations):\n",
        "    augdata = np.concatenate((augdata, augRotateShear(train_X, hyp[ii][0], hyp[ii][1]))) # concatenate the augmented data to the set\n",
        "    auglabel = np.concatenate((auglabel, train_y))  # the labels don't change when we augment\n",
        "\n",
        "  # check the test accuracy\n",
        "  testpred = NN(augdata, auglabel, test_X)\n",
        "  accuracies[ii] = Accuracy(test_y, testpred)\n",
        "  print('Accuracy after augmentation shear:',hyp[ii][0], 'angle:',hyp[ii][1], ' is ', accuracies[ii], flush=True)"
      ],
      "metadata": {
        "colab": {
          "base_uri": "https://localhost:8080/"
        },
        "id": "UfmRisY-swyX",
        "outputId": "a0108b11-de06-40cb-d702-2aed0adbecdd"
      },
      "execution_count": 39,
      "outputs": [
        {
          "metadata": {
            "tags": null
          },
          "name": "stderr",
          "output_type": "stream",
          "text": [
            "<ipython-input-39-09de780976d0>:5: DeprecationWarning: `np.float` is a deprecated alias for the builtin `float`. To silence this warning, use `float` by itself. Doing this will not modify any behavior and is safe. If you specifically wanted the numpy scalar type, use `np.float64` here.\n",
            "Deprecated in NumPy 1.20; for more details and guidance: https://numpy.org/devdocs/release/1.20.0-notes.html#deprecations\n",
            "  accuracies = np.zeros(len(hyp), dtype=np.float) # we will save the values here\n"
          ]
        },
        {
          "output_type": "stream",
          "name": "stdout",
          "text": [
            "Accuracy after augmentation shear: 0.0 angle: 0.0  is  0.6332\n",
            "Accuracy after augmentation shear: 0.0 angle: 10.0  is  0.5905\n",
            "Accuracy after augmentation shear: 0.0 angle: 20.0  is  0.5946\n",
            "Accuracy after augmentation shear: 0.0 angle: 30.0  is  0.5987\n",
            "Accuracy after augmentation shear: 0.0 angle: 40.0  is  0.5959\n",
            "Accuracy after augmentation shear: 0.0 angle: 50.0  is  0.6122\n",
            "Accuracy after augmentation shear: 0.0 angle: 60.0  is  0.6008\n",
            "Accuracy after augmentation shear: 0.2 angle: 0.0  is  0.6333\n",
            "Accuracy after augmentation shear: 0.2 angle: 10.0  is  0.6\n",
            "Accuracy after augmentation shear: 0.2 angle: 20.0  is  0.5774\n",
            "Accuracy after augmentation shear: 0.2 angle: 30.0  is  0.5995\n",
            "Accuracy after augmentation shear: 0.2 angle: 40.0  is  0.5971\n",
            "Accuracy after augmentation shear: 0.2 angle: 50.0  is  0.5912\n",
            "Accuracy after augmentation shear: 0.2 angle: 60.0  is  0.6015\n",
            "Accuracy after augmentation shear: 0.4 angle: 0.0  is  0.6341\n",
            "Accuracy after augmentation shear: 0.4 angle: 10.0  is  0.6186\n",
            "Accuracy after augmentation shear: 0.4 angle: 20.0  is  0.6013\n",
            "Accuracy after augmentation shear: 0.4 angle: 30.0  is  0.6258\n",
            "Accuracy after augmentation shear: 0.4 angle: 40.0  is  0.5871\n",
            "Accuracy after augmentation shear: 0.4 angle: 50.0  is  0.6197\n",
            "Accuracy after augmentation shear: 0.4 angle: 60.0  is  0.5896\n",
            "Accuracy after augmentation shear: 0.6 angle: 0.0  is  0.6345\n",
            "Accuracy after augmentation shear: 0.6 angle: 10.0  is  0.5771\n",
            "Accuracy after augmentation shear: 0.6 angle: 20.0  is  0.5945\n",
            "Accuracy after augmentation shear: 0.6 angle: 30.0  is  0.6117\n",
            "Accuracy after augmentation shear: 0.6 angle: 40.0  is  0.6379\n",
            "Accuracy after augmentation shear: 0.6 angle: 50.0  is  0.5853\n",
            "Accuracy after augmentation shear: 0.6 angle: 60.0  is  0.613\n",
            "Accuracy after augmentation shear: 0.8 angle: 0.0  is  0.6344\n",
            "Accuracy after augmentation shear: 0.8 angle: 10.0  is  0.5954\n",
            "Accuracy after augmentation shear: 0.8 angle: 20.0  is  0.5919\n",
            "Accuracy after augmentation shear: 0.8 angle: 30.0  is  0.5864\n",
            "Accuracy after augmentation shear: 0.8 angle: 40.0  is  0.5776\n",
            "Accuracy after augmentation shear: 0.8 angle: 50.0  is  0.6086\n",
            "Accuracy after augmentation shear: 0.8 angle: 60.0  is  0.5861\n",
            "Accuracy after augmentation shear: 1.0 angle: 0.0  is  0.6344\n",
            "Accuracy after augmentation shear: 1.0 angle: 10.0  is  0.6009\n",
            "Accuracy after augmentation shear: 1.0 angle: 20.0  is  0.5816\n",
            "Accuracy after augmentation shear: 1.0 angle: 30.0  is  0.5886\n",
            "Accuracy after augmentation shear: 1.0 angle: 40.0  is  0.6072\n",
            "Accuracy after augmentation shear: 1.0 angle: 50.0  is  0.6099\n",
            "Accuracy after augmentation shear: 1.0 angle: 60.0  is  0.5948\n",
            "Accuracy after augmentation shear: 1.2 angle: 0.0  is  0.6333\n",
            "Accuracy after augmentation shear: 1.2 angle: 10.0  is  0.6095\n",
            "Accuracy after augmentation shear: 1.2 angle: 20.0  is  0.5775\n",
            "Accuracy after augmentation shear: 1.2 angle: 30.0  is  0.5836\n",
            "Accuracy after augmentation shear: 1.2 angle: 40.0  is  0.6115\n",
            "Accuracy after augmentation shear: 1.2 angle: 50.0  is  0.5888\n",
            "Accuracy after augmentation shear: 1.2 angle: 60.0  is  0.5763\n",
            "Accuracy after augmentation shear: 1.4 angle: 0.0  is  0.6336\n",
            "Accuracy after augmentation shear: 1.4 angle: 10.0  is  0.6005\n",
            "Accuracy after augmentation shear: 1.4 angle: 20.0  is  0.616\n",
            "Accuracy after augmentation shear: 1.4 angle: 30.0  is  0.5887\n",
            "Accuracy after augmentation shear: 1.4 angle: 40.0  is  0.5766\n",
            "Accuracy after augmentation shear: 1.4 angle: 50.0  is  0.603\n",
            "Accuracy after augmentation shear: 1.4 angle: 60.0  is  0.6149\n",
            "Accuracy after augmentation shear: 1.6 angle: 0.0  is  0.6341\n",
            "Accuracy after augmentation shear: 1.6 angle: 10.0  is  0.6114\n",
            "Accuracy after augmentation shear: 1.6 angle: 20.0  is  0.5946\n",
            "Accuracy after augmentation shear: 1.6 angle: 30.0  is  0.5755\n",
            "Accuracy after augmentation shear: 1.6 angle: 40.0  is  0.6077\n",
            "Accuracy after augmentation shear: 1.6 angle: 50.0  is  0.5887\n",
            "Accuracy after augmentation shear: 1.6 angle: 60.0  is  0.615\n"
          ]
        }
      ]
    },
    {
      "cell_type": "markdown",
      "source": [
        "Let us plot it two dimensionally to see which is the best value for the hyperparameters:"
      ],
      "metadata": {
        "id": "twI4Tk5etBTE"
      }
    },
    {
      "cell_type": "code",
      "source": [
        "fig = plt.figure()\n",
        "ax = fig.add_axes([0.1, 0.1, 0.8, 0.8]) # main axes\n",
        "im = ax.imshow(accuracies.reshape((len(shearconstraints), len(angleconstraints))), cmap='inferno') \n",
        "ax.set_xlabel('angle')\n",
        "ax.set_ylabel('shear')\n",
        "ax.set_xticks(np.arange(len(angleconstraints)));\n",
        "ax.set_xticklabels(angleconstraints);\n",
        "ax.set_yticks(np.arange(len(shearconstraints)));\n",
        "ax.set_yticklabels(shearconstraints);\n",
        "plt.colorbar(im)"
      ],
      "metadata": {
        "colab": {
          "base_uri": "https://localhost:8080/",
          "height": 309
        },
        "id": "CS8X6jLAs7hW",
        "outputId": "9c4144d3-82a5-4b80-d460-21550718a3bd"
      },
      "execution_count": 40,
      "outputs": [
        {
          "output_type": "execute_result",
          "data": {
            "text/plain": [
              "<matplotlib.colorbar.Colorbar at 0x7f39b56a1310>"
            ]
          },
          "metadata": {},
          "execution_count": 40
        },
        {
          "output_type": "display_data",
          "data": {
            "text/plain": [
              "<Figure size 432x288 with 2 Axes>"
            ],
            "image/png": "[encoded data removed]"
          },
          "metadata": {
            "needs_background": "light"
          }
        }
      ]
    },
    {
      "cell_type": "markdown",
      "source": [
        "It seems that rotation and shear don't mix! The best accuracy is when rotation is zero."
      ],
      "metadata": {
        "id": "JRnymka4vnla"
      }
    },
    {
      "cell_type": "markdown",
      "source": [
        "## Questions\n",
        "Try these questions for better understanding. You may not be able to solve all of them. \n",
        "1. What is the best value for angle constraint and shear constraint you got? How much did the accuracy improve as compared to not using augmentations?\n",
        "2. Can you increase the accuracy by increasing the number of augmentations from each sample?\n",
        "3. Try implementing a few augmentations of your own and experimenting with them. A good reference is <a href=https://www.analyticsvidhya.com/blog/2019/12/image-augmentation-deep-learning-pytorch/>here. </a>\n",
        "4. Try combining various augmentations. What is the highest accuracy you can get? What is the smallest training dataset you can take and still get accuracy above 50%?\n",
        "\n",
        "Whenever you do any experiment, a good practice is to vary the hyperparameters gradually and create a graph of your results, like we did for gridsearch. "
      ],
      "metadata": {
        "id": "cU9AxYWJvs_P"
      }
    },
    {
      "cell_type": "markdown",
      "source": [
        "ANSWER FOR QUESTION 1\n",
        "The beat values of shear constraint is 0.4,0.6,0.8,1.0,1.2,1.4,1.6 The best values of angle constraint is 0.0,0.0,0.0,0.0,0.0,0.0,10.0."
      ],
      "metadata": {
        "id": "BLTXOagY8HoS"
      }
    },
    {
      "cell_type": "markdown",
      "source": [
        "ANSWER FOR QUESTION 2:\n",
        "\n",
        "Yes,we increase the accuracy by increasing the number of augumentaions from each sample."
      ],
      "metadata": {
        "id": "AgMNerAm8LhB"
      }
    },
    {
      "cell_type": "markdown",
      "source": [
        "ANSWER FOR QUESTION 3\n"
      ],
      "metadata": {
        "id": "7ewCSUhi8cYK"
      }
    },
    {
      "cell_type": "code",
      "source": [
        "from google.colab import drive\n",
        "drive.mount('/content/drive')"
      ],
      "metadata": {
        "id": "I78LWTxH9eNj",
        "outputId": "12898472-86d7-4f81-bdb8-114f54adef33",
        "colab": {
          "base_uri": "https://localhost:8080/"
        }
      },
      "execution_count": 55,
      "outputs": [
        {
          "output_type": "stream",
          "name": "stdout",
          "text": [
            "Drive already mounted at /content/drive; to attempt to forcibly remount, call drive.mount(\"/content/drive\", force_remount=True).\n"
          ]
        }
      ]
    },
    {
      "cell_type": "code",
      "source": [
        "# importing all the required libraries\n",
        "import skimage.io as io\n",
        "image=io.imread('/content/drive/MyDrive/tree.webp')\n",
        "print(image.shape)\n",
        "io.imshow(image)\n",
        "     \n",
        "     "
      ],
      "metadata": {
        "colab": {
          "base_uri": "https://localhost:8080/",
          "height": 380
        },
        "id": "GU4vuqxz8vs1",
        "outputId": "e7d69894-7e1c-433e-d90d-6d71d047d59c"
      },
      "execution_count": 62,
      "outputs": [
        {
          "output_type": "error",
          "ename": "ValueError",
          "evalue": "ignored",
          "traceback": [
            "\u001b[0;31m---------------------------------------------------------------------------\u001b[0m",
            "\u001b[0;31mValueError\u001b[0m                                Traceback (most recent call last)",
            "\u001b[0;32m<ipython-input-62-a8b0576c88a6>\u001b[0m in \u001b[0;36m<module>\u001b[0;34m\u001b[0m\n\u001b[1;32m      1\u001b[0m \u001b[0;31m# importing all the required libraries\u001b[0m\u001b[0;34m\u001b[0m\u001b[0;34m\u001b[0m\u001b[0;34m\u001b[0m\u001b[0m\n\u001b[1;32m      2\u001b[0m \u001b[0;32mimport\u001b[0m \u001b[0mskimage\u001b[0m\u001b[0;34m.\u001b[0m\u001b[0mio\u001b[0m \u001b[0;32mas\u001b[0m \u001b[0mio\u001b[0m\u001b[0;34m\u001b[0m\u001b[0;34m\u001b[0m\u001b[0m\n\u001b[0;32m----> 3\u001b[0;31m \u001b[0mimage\u001b[0m\u001b[0;34m=\u001b[0m\u001b[0mio\u001b[0m\u001b[0;34m.\u001b[0m\u001b[0mimread\u001b[0m\u001b[0;34m(\u001b[0m\u001b[0;34m'/content/drive/MyDrive/tree.webp'\u001b[0m\u001b[0;34m)\u001b[0m\u001b[0;34m\u001b[0m\u001b[0;34m\u001b[0m\u001b[0m\n\u001b[0m\u001b[1;32m      4\u001b[0m \u001b[0mprint\u001b[0m\u001b[0;34m(\u001b[0m\u001b[0mimage\u001b[0m\u001b[0;34m.\u001b[0m\u001b[0mshape\u001b[0m\u001b[0;34m)\u001b[0m\u001b[0;34m\u001b[0m\u001b[0;34m\u001b[0m\u001b[0m\n\u001b[1;32m      5\u001b[0m \u001b[0mio\u001b[0m\u001b[0;34m.\u001b[0m\u001b[0mimshow\u001b[0m\u001b[0;34m(\u001b[0m\u001b[0mimage\u001b[0m\u001b[0;34m)\u001b[0m\u001b[0;34m\u001b[0m\u001b[0;34m\u001b[0m\u001b[0m\n",
            "\u001b[0;32m/usr/local/lib/python3.8/dist-packages/skimage/io/_io.py\u001b[0m in \u001b[0;36mimread\u001b[0;34m(fname, as_gray, plugin, **plugin_args)\u001b[0m\n\u001b[1;32m     46\u001b[0m \u001b[0;34m\u001b[0m\u001b[0m\n\u001b[1;32m     47\u001b[0m     \u001b[0;32mwith\u001b[0m \u001b[0mfile_or_url_context\u001b[0m\u001b[0;34m(\u001b[0m\u001b[0mfname\u001b[0m\u001b[0;34m)\u001b[0m \u001b[0;32mas\u001b[0m \u001b[0mfname\u001b[0m\u001b[0;34m:\u001b[0m\u001b[0;34m\u001b[0m\u001b[0;34m\u001b[0m\u001b[0m\n\u001b[0;32m---> 48\u001b[0;31m         \u001b[0mimg\u001b[0m \u001b[0;34m=\u001b[0m \u001b[0mcall_plugin\u001b[0m\u001b[0;34m(\u001b[0m\u001b[0;34m'imread'\u001b[0m\u001b[0;34m,\u001b[0m \u001b[0mfname\u001b[0m\u001b[0;34m,\u001b[0m \u001b[0mplugin\u001b[0m\u001b[0;34m=\u001b[0m\u001b[0mplugin\u001b[0m\u001b[0;34m,\u001b[0m \u001b[0;34m**\u001b[0m\u001b[0mplugin_args\u001b[0m\u001b[0;34m)\u001b[0m\u001b[0;34m\u001b[0m\u001b[0;34m\u001b[0m\u001b[0m\n\u001b[0m\u001b[1;32m     49\u001b[0m \u001b[0;34m\u001b[0m\u001b[0m\n\u001b[1;32m     50\u001b[0m     \u001b[0;32mif\u001b[0m \u001b[0;32mnot\u001b[0m \u001b[0mhasattr\u001b[0m\u001b[0;34m(\u001b[0m\u001b[0mimg\u001b[0m\u001b[0;34m,\u001b[0m \u001b[0;34m'ndim'\u001b[0m\u001b[0;34m)\u001b[0m\u001b[0;34m:\u001b[0m\u001b[0;34m\u001b[0m\u001b[0;34m\u001b[0m\u001b[0m\n",
            "\u001b[0;32m/usr/local/lib/python3.8/dist-packages/skimage/io/manage_plugins.py\u001b[0m in \u001b[0;36mcall_plugin\u001b[0;34m(kind, *args, **kwargs)\u001b[0m\n\u001b[1;32m    205\u001b[0m                                (plugin, kind))\n\u001b[1;32m    206\u001b[0m \u001b[0;34m\u001b[0m\u001b[0m\n\u001b[0;32m--> 207\u001b[0;31m     \u001b[0;32mreturn\u001b[0m \u001b[0mfunc\u001b[0m\u001b[0;34m(\u001b[0m\u001b[0;34m*\u001b[0m\u001b[0margs\u001b[0m\u001b[0;34m,\u001b[0m \u001b[0;34m**\u001b[0m\u001b[0mkwargs\u001b[0m\u001b[0;34m)\u001b[0m\u001b[0;34m\u001b[0m\u001b[0;34m\u001b[0m\u001b[0m\n\u001b[0m\u001b[1;32m    208\u001b[0m \u001b[0;34m\u001b[0m\u001b[0m\n\u001b[1;32m    209\u001b[0m \u001b[0;34m\u001b[0m\u001b[0m\n",
            "\u001b[0;32m/usr/local/lib/python3.8/dist-packages/skimage/io/_plugins/imageio_plugin.py\u001b[0m in \u001b[0;36mimread\u001b[0;34m(*args, **kwargs)\u001b[0m\n\u001b[1;32m      8\u001b[0m \u001b[0;34m@\u001b[0m\u001b[0mwraps\u001b[0m\u001b[0;34m(\u001b[0m\u001b[0mimageio_imread\u001b[0m\u001b[0;34m)\u001b[0m\u001b[0;34m\u001b[0m\u001b[0;34m\u001b[0m\u001b[0m\n\u001b[1;32m      9\u001b[0m \u001b[0;32mdef\u001b[0m \u001b[0mimread\u001b[0m\u001b[0;34m(\u001b[0m\u001b[0;34m*\u001b[0m\u001b[0margs\u001b[0m\u001b[0;34m,\u001b[0m \u001b[0;34m**\u001b[0m\u001b[0mkwargs\u001b[0m\u001b[0;34m)\u001b[0m\u001b[0;34m:\u001b[0m\u001b[0;34m\u001b[0m\u001b[0;34m\u001b[0m\u001b[0m\n\u001b[0;32m---> 10\u001b[0;31m     \u001b[0;32mreturn\u001b[0m \u001b[0mnp\u001b[0m\u001b[0;34m.\u001b[0m\u001b[0masarray\u001b[0m\u001b[0;34m(\u001b[0m\u001b[0mimageio_imread\u001b[0m\u001b[0;34m(\u001b[0m\u001b[0;34m*\u001b[0m\u001b[0margs\u001b[0m\u001b[0;34m,\u001b[0m \u001b[0;34m**\u001b[0m\u001b[0mkwargs\u001b[0m\u001b[0;34m)\u001b[0m\u001b[0;34m)\u001b[0m\u001b[0;34m\u001b[0m\u001b[0;34m\u001b[0m\u001b[0m\n\u001b[0m",
            "\u001b[0;32m/usr/local/lib/python3.8/dist-packages/imageio/core/functions.py\u001b[0m in \u001b[0;36mimread\u001b[0;34m(uri, format, **kwargs)\u001b[0m\n\u001b[1;32m    263\u001b[0m \u001b[0;34m\u001b[0m\u001b[0m\n\u001b[1;32m    264\u001b[0m     \u001b[0;31m# Get reader and read first\u001b[0m\u001b[0;34m\u001b[0m\u001b[0;34m\u001b[0m\u001b[0;34m\u001b[0m\u001b[0m\n\u001b[0;32m--> 265\u001b[0;31m     \u001b[0mreader\u001b[0m \u001b[0;34m=\u001b[0m \u001b[0mread\u001b[0m\u001b[0;34m(\u001b[0m\u001b[0muri\u001b[0m\u001b[0;34m,\u001b[0m \u001b[0mformat\u001b[0m\u001b[0;34m,\u001b[0m \u001b[0;34m\"i\"\u001b[0m\u001b[0;34m,\u001b[0m \u001b[0;34m**\u001b[0m\u001b[0mkwargs\u001b[0m\u001b[0;34m)\u001b[0m\u001b[0;34m\u001b[0m\u001b[0;34m\u001b[0m\u001b[0m\n\u001b[0m\u001b[1;32m    266\u001b[0m     \u001b[0;32mwith\u001b[0m \u001b[0mreader\u001b[0m\u001b[0;34m:\u001b[0m\u001b[0;34m\u001b[0m\u001b[0;34m\u001b[0m\u001b[0m\n\u001b[1;32m    267\u001b[0m         \u001b[0;32mreturn\u001b[0m \u001b[0mreader\u001b[0m\u001b[0;34m.\u001b[0m\u001b[0mget_data\u001b[0m\u001b[0;34m(\u001b[0m\u001b[0;36m0\u001b[0m\u001b[0;34m)\u001b[0m\u001b[0;34m\u001b[0m\u001b[0;34m\u001b[0m\u001b[0m\n",
            "\u001b[0;32m/usr/local/lib/python3.8/dist-packages/imageio/core/functions.py\u001b[0m in \u001b[0;36mget_reader\u001b[0;34m(uri, format, mode, **kwargs)\u001b[0m\n\u001b[1;32m    179\u001b[0m     \u001b[0;32mif\u001b[0m \u001b[0mformat\u001b[0m \u001b[0;32mis\u001b[0m \u001b[0;32mNone\u001b[0m\u001b[0;34m:\u001b[0m\u001b[0;34m\u001b[0m\u001b[0;34m\u001b[0m\u001b[0m\n\u001b[1;32m    180\u001b[0m         \u001b[0mmodename\u001b[0m \u001b[0;34m=\u001b[0m \u001b[0mMODENAMES\u001b[0m\u001b[0;34m.\u001b[0m\u001b[0mget\u001b[0m\u001b[0;34m(\u001b[0m\u001b[0mmode\u001b[0m\u001b[0;34m,\u001b[0m \u001b[0mmode\u001b[0m\u001b[0;34m)\u001b[0m\u001b[0;34m\u001b[0m\u001b[0;34m\u001b[0m\u001b[0m\n\u001b[0;32m--> 181\u001b[0;31m         raise ValueError(\n\u001b[0m\u001b[1;32m    182\u001b[0m             \u001b[0;34m\"Could not find a format to read the specified file in %s mode\"\u001b[0m \u001b[0;34m%\u001b[0m \u001b[0mmodename\u001b[0m\u001b[0;34m\u001b[0m\u001b[0;34m\u001b[0m\u001b[0m\n\u001b[1;32m    183\u001b[0m         )\n",
            "\u001b[0;31mValueError\u001b[0m: Could not find a format to read the specified file in single-image mode"
          ]
        }
      ]
    },
    {
      "cell_type": "code",
      "source": [
        "import numpy as np\n",
        "flipLR=np.fliplr(image)\n",
        "plt.imshow(flipLR)\n",
        "plt.title('Left to Right')"
      ],
      "metadata": {
        "id": "OEWuxxj79-16",
        "outputId": "2b9a8cfa-4f0b-44fa-d5a3-c519913221f5",
        "colab": {
          "base_uri": "https://localhost:8080/",
          "height": 217
        }
      },
      "execution_count": 63,
      "outputs": [
        {
          "output_type": "error",
          "ename": "NameError",
          "evalue": "ignored",
          "traceback": [
            "\u001b[0;31m---------------------------------------------------------------------------\u001b[0m",
            "\u001b[0;31mNameError\u001b[0m                                 Traceback (most recent call last)",
            "\u001b[0;32m<ipython-input-63-29d11e376d2e>\u001b[0m in \u001b[0;36m<module>\u001b[0;34m\u001b[0m\n\u001b[1;32m      1\u001b[0m \u001b[0;32mimport\u001b[0m \u001b[0mnumpy\u001b[0m \u001b[0;32mas\u001b[0m \u001b[0mnp\u001b[0m\u001b[0;34m\u001b[0m\u001b[0;34m\u001b[0m\u001b[0m\n\u001b[0;32m----> 2\u001b[0;31m \u001b[0mflipLR\u001b[0m\u001b[0;34m=\u001b[0m\u001b[0mnp\u001b[0m\u001b[0;34m.\u001b[0m\u001b[0mfliplr\u001b[0m\u001b[0;34m(\u001b[0m\u001b[0mimage\u001b[0m\u001b[0;34m)\u001b[0m\u001b[0;34m\u001b[0m\u001b[0;34m\u001b[0m\u001b[0m\n\u001b[0m\u001b[1;32m      3\u001b[0m \u001b[0mplt\u001b[0m\u001b[0;34m.\u001b[0m\u001b[0mimshow\u001b[0m\u001b[0;34m(\u001b[0m\u001b[0mflipLR\u001b[0m\u001b[0;34m)\u001b[0m\u001b[0;34m\u001b[0m\u001b[0;34m\u001b[0m\u001b[0m\n\u001b[1;32m      4\u001b[0m \u001b[0mplt\u001b[0m\u001b[0;34m.\u001b[0m\u001b[0mtitle\u001b[0m\u001b[0;34m(\u001b[0m\u001b[0;34m'Left to Right'\u001b[0m\u001b[0;34m)\u001b[0m\u001b[0;34m\u001b[0m\u001b[0;34m\u001b[0m\u001b[0m\n",
            "\u001b[0;31mNameError\u001b[0m: name 'image' is not defined"
          ]
        }
      ]
    }
  ]
}